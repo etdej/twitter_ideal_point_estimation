{
 "cells": [
  {
   "cell_type": "code",
   "execution_count": 1,
   "metadata": {
    "collapsed": true
   },
   "outputs": [],
   "source": [
    "import numpy as np\n",
    "from numpy.random import uniform\n",
    "from scipy.stats import norm, describe\n",
    "import pandas as pd\n"
   ]
  },
  {
   "cell_type": "code",
   "execution_count": 2,
   "metadata": {},
   "outputs": [
    {
     "data": {
      "text/plain": [
       "0.2671476279259133"
      ]
     },
     "execution_count": 2,
     "metadata": {},
     "output_type": "execute_result"
    }
   ],
   "source": [
    "uniform()"
   ]
  },
  {
   "cell_type": "code",
   "execution_count": 3,
   "metadata": {
    "collapsed": true
   },
   "outputs": [],
   "source": [
    "def sigmoid(x):\n",
    "    return 1 / (1 + np.exp(-x))"
   ]
  },
  {
   "cell_type": "code",
   "execution_count": 4,
   "metadata": {
    "collapsed": true
   },
   "outputs": [],
   "source": [
    "samples_names = pd.read_csv('samples_names.csv')"
   ]
  },
  {
   "cell_type": "code",
   "execution_count": 5,
   "metadata": {
    "collapsed": true
   },
   "outputs": [],
   "source": [
    "samples_alpha = pd.read_csv('samples_alpha.csv')\n",
    "samples_phi = pd.read_csv('samples_phi.csv')\n",
    "samples_gamma = pd.read_csv('samples_gamma.csv')\n",
    "samples_mu_beta = pd.read_csv('samples_mu_beta.csv')\n",
    "samples_sigma_beta = pd.read_csv('samples_sigma_beta.csv')\n",
    "samples_sigma_alpha = pd.read_csv('samples_sigma_alpha.csv')"
   ]
  },
  {
   "cell_type": "code",
   "execution_count": 6,
   "metadata": {
    "collapsed": true
   },
   "outputs": [],
   "source": [
    "adj_matrix = pd.read_csv('adj-matrix-US.csv', sep=' ')"
   ]
  },
  {
   "cell_type": "code",
   "execution_count": 7,
   "metadata": {
    "collapsed": true
   },
   "outputs": [],
   "source": [
    "def log_posterior_density(alpha, beta, gamma, theta, phi, mu_beta, sigma_beta, y):\n",
    "    value = alpha + beta - gamma *(theta - phi)**2\n",
    "    out = np.log(sigmoid(value)**y *(1 - sigmoid(value))**(1-y))\n",
    "    dnorm = norm.logpdf(theta, 0, 1) + norm.logpdf(beta, mu_beta, sigma_beta)\n",
    "    return np.sum(out + dnorm)"
   ]
  },
  {
   "cell_type": "code",
   "execution_count": 39,
   "metadata": {
    "collapsed": true
   },
   "outputs": [],
   "source": [
    "def metropolis(y, alpha_i, gamma_i, phi_i, mu_beta_i, sigma_beta_i, beta_init, theta_init, \n",
    "    iters=2000, delta=0.05, chains=2, n_warmup=1000, thin=1, verbose=False):\n",
    "    \n",
    "    assert(len(alpha_i) == len(gamma_i))\n",
    "    assert(len(alpha_i) == len(phi_i))\n",
    "    assert(len(alpha_i) == len(mu_beta_i))\n",
    "    assert(len(alpha_i) == len(sigma_beta_i))\n",
    "    \n",
    "    samples = []\n",
    "    \n",
    "    for chain in range(chains):\n",
    "        samples_chain = []\n",
    "        \n",
    "        curr = [beta_init, theta_init[chain]]\n",
    "        i = 0\n",
    "        for iter in range(iters):\n",
    "            # getting samples from iterations\n",
    "            alpha = alpha_i[iter%iters]\n",
    "            gamma = gamma_i[iter%iters]\n",
    "            phi = phi_i[iter%iters]\n",
    "            mu_beta = mu_beta_i[iter%iters]\n",
    "            sigma_beta = sigma_beta_i[iter%iters]\n",
    "            \n",
    "            # sampling candidate values\n",
    "            cand = uniform(low= [c-delta for c in curr], high=[c+delta for c in curr])\n",
    "            accept_prob = np.exp(log_posterior_density(alpha, cand[0], gamma, cand[1], phi, mu_beta, sigma_beta, y) -\n",
    "                                log_posterior_density(alpha, curr[0], gamma, curr[1], phi, mu_beta, sigma_beta, y))\n",
    "            \n",
    "            accept_prob = np.clip(accept_prob, a_min=None, a_max=1)\n",
    "            \n",
    "            #print(accept_prob)\n",
    "            if uniform() <= accept_prob:\n",
    "                curr = cand\n",
    "            \n",
    "            if iter%thin == 0:\n",
    "                samples_chain.append(curr)\n",
    "            \n",
    "        samples.append(samples_chain)\n",
    "        \n",
    "    return np.array(samples), describe(samples)\n",
    "        "
   ]
  },
  {
   "cell_type": "code",
   "execution_count": 28,
   "metadata": {},
   "outputs": [
    {
     "data": {
      "text/plain": [
       "(400, 318)"
      ]
     },
     "execution_count": 28,
     "metadata": {},
     "output_type": "execute_result"
    }
   ],
   "source": [
    "samples_alpha.shape"
   ]
  },
  {
   "cell_type": "code",
   "execution_count": 29,
   "metadata": {},
   "outputs": [
    {
     "data": {
      "text/plain": [
       "(2200, 318)"
      ]
     },
     "execution_count": 29,
     "metadata": {},
     "output_type": "execute_result"
    }
   ],
   "source": [
    "iters=2200\n",
    "np.tile(samples_alpha, (int(iters/len(samples_alpha)) + 1, 1))[:iters].shape"
   ]
  },
  {
   "cell_type": "code",
   "execution_count": 40,
   "metadata": {},
   "outputs": [],
   "source": [
    "def estimation(indexes):\n",
    "    beta = []\n",
    "    theta = []\n",
    "    for i in indexes:\n",
    "        samples, _ = metropolis(y, alpha_i, gamma_i, phi_i, mu_beta_i, sigma_beta_i, np.log(np.sum(y[i,:])), np.random.normal(0, 1, size=(2)), \n",
    "            iters=3, delta=0.05, chains=2, n_warmup=0, thin=1, verbose=False)\n",
    "        \n",
    "        #print(samples)\n",
    "        #print(np.array(samples))\n",
    "        beta.append(samples[:, 0, :])\n",
    "        theta.append(samples[:, 1, :])   \n",
    "    \n",
    "    return beta, theta"
   ]
  },
  {
   "cell_type": "code",
   "execution_count": 41,
   "metadata": {},
   "outputs": [],
   "source": [
    "y = adj_matrix.as_matrix()\n",
    "alpha_i = samples_alpha.as_matrix()\n",
    "gamma_i = samples_gamma.as_matrix()\n",
    "phi_i = samples_phi.as_matrix()\n",
    "mu_beta_i = samples_mu_beta.as_matrix()\n",
    "sigma_beta_i = samples_sigma_beta.as_matrix()"
   ]
  },
  {
   "cell_type": "code",
   "execution_count": null,
   "metadata": {
    "collapsed": true
   },
   "outputs": [],
   "source": []
  },
  {
   "cell_type": "code",
   "execution_count": 42,
   "metadata": {},
   "outputs": [
    {
     "name": "stderr",
     "output_type": "stream",
     "text": [
      "/Users/etienne/miniconda2/envs/py36/lib/python3.6/site-packages/ipykernel_launcher.py:27: RuntimeWarning: overflow encountered in exp\n"
     ]
    },
    {
     "data": {
      "text/plain": [
       "([array([[ 2.04106869, -0.13758937],\n",
       "         [ 2.0298087 ,  0.43963143]]), array([[ 2.90203363,  2.33407428],\n",
       "         [ 2.92053058,  0.38723669]])], [array([[ 2.01966915, -0.13228866],\n",
       "         [ 2.0298087 ,  0.43963143]]), array([[ 2.87122948,  2.36951903],\n",
       "         [ 2.92053058,  0.38723669]])])"
      ]
     },
     "execution_count": 42,
     "metadata": {},
     "output_type": "execute_result"
    }
   ],
   "source": [
    "estimation([10, 11])"
   ]
  },
  {
   "cell_type": "code",
   "execution_count": null,
   "metadata": {
    "collapsed": true
   },
   "outputs": [],
   "source": []
  },
  {
   "cell_type": "code",
   "execution_count": null,
   "metadata": {
    "collapsed": true
   },
   "outputs": [],
   "source": []
  }
 ],
 "metadata": {
  "kernelspec": {
   "display_name": "Python 3",
   "language": "python",
   "name": "python3"
  },
  "language_info": {
   "codemirror_mode": {
    "name": "ipython",
    "version": 3
   },
   "file_extension": ".py",
   "mimetype": "text/x-python",
   "name": "python",
   "nbconvert_exporter": "python",
   "pygments_lexer": "ipython3",
   "version": "3.6.1"
  }
 },
 "nbformat": 4,
 "nbformat_minor": 2
}
