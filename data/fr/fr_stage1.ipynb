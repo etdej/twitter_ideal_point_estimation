{
 "cells": [
  {
   "cell_type": "code",
   "execution_count": 1,
   "metadata": {
    "collapsed": true
   },
   "outputs": [],
   "source": [
    "import pandas as pd\n",
    "import matplotlib\n",
    "import numpy as np\n",
    "import matplotlib.pyplot as plt\n",
    "%matplotlib inline  "
   ]
  },
  {
   "cell_type": "code",
   "execution_count": 2,
   "metadata": {
    "collapsed": true
   },
   "outputs": [],
   "source": [
    "samples_phi = pd.read_csv(\"fr_samples_phi.csv\")\n",
    "#adj_matrix = pd.read_csv(\"adj-matrix-FR-stage1.csv\",index_col=0)\n",
    "#elites_data = pd.read_csv(\"fr_elites_data.csv\",index_col=0)"
   ]
  },
  {
   "cell_type": "code",
   "execution_count": 3,
   "metadata": {},
   "outputs": [
    {
     "data": {
      "text/plain": [
       "(50, 101)"
      ]
     },
     "execution_count": 3,
     "metadata": {},
     "output_type": "execute_result"
    }
   ],
   "source": [
    "samples_phi.shape"
   ]
  },
  {
   "cell_type": "code",
   "execution_count": 4,
   "metadata": {},
   "outputs": [
    {
     "data": {
      "text/html": [
       "<div>\n",
       "<style>\n",
       "    .dataframe thead tr:only-child th {\n",
       "        text-align: right;\n",
       "    }\n",
       "\n",
       "    .dataframe thead th {\n",
       "        text-align: left;\n",
       "    }\n",
       "\n",
       "    .dataframe tbody tr th {\n",
       "        vertical-align: top;\n",
       "    }\n",
       "</style>\n",
       "<table border=\"1\" class=\"dataframe\">\n",
       "  <thead>\n",
       "    <tr style=\"text-align: right;\">\n",
       "      <th></th>\n",
       "      <th>barbarapompili</th>\n",
       "      <th>delphinebatho</th>\n",
       "      <th>stanguerini</th>\n",
       "      <th>gilbertcollard</th>\n",
       "      <th>fderugy</th>\n",
       "      <th>oliviagregoire</th>\n",
       "      <th>lachaudb</th>\n",
       "      <th>sylviapinel</th>\n",
       "      <th>bretonxavier</th>\n",
       "      <th>aquatennens</th>\n",
       "      <th>...</th>\n",
       "      <th>rue89</th>\n",
       "      <th>partisocialiste</th>\n",
       "      <th>lobs</th>\n",
       "      <th>enmarchefr</th>\n",
       "      <th>lexpress</th>\n",
       "      <th>fn_officiel</th>\n",
       "      <th>lesechos</th>\n",
       "      <th>lesrepublicains</th>\n",
       "      <th>slatefr</th>\n",
       "      <th>lepoint</th>\n",
       "    </tr>\n",
       "  </thead>\n",
       "  <tbody>\n",
       "    <tr>\n",
       "      <th>0</th>\n",
       "      <td>1.613334</td>\n",
       "      <td>-0.288592</td>\n",
       "      <td>0.679581</td>\n",
       "      <td>1.427705</td>\n",
       "      <td>-0.212930</td>\n",
       "      <td>-0.383216</td>\n",
       "      <td>-0.444958</td>\n",
       "      <td>0.894010</td>\n",
       "      <td>-0.775320</td>\n",
       "      <td>1.733256</td>\n",
       "      <td>...</td>\n",
       "      <td>-0.859131</td>\n",
       "      <td>0.947330</td>\n",
       "      <td>-0.000066</td>\n",
       "      <td>1.786108</td>\n",
       "      <td>1.558724</td>\n",
       "      <td>-0.276248</td>\n",
       "      <td>-1.803179</td>\n",
       "      <td>0.141189</td>\n",
       "      <td>1.529592</td>\n",
       "      <td>0.561496</td>\n",
       "    </tr>\n",
       "    <tr>\n",
       "      <th>1</th>\n",
       "      <td>-0.771101</td>\n",
       "      <td>-1.399999</td>\n",
       "      <td>1.842466</td>\n",
       "      <td>-0.751024</td>\n",
       "      <td>2.409731</td>\n",
       "      <td>0.828630</td>\n",
       "      <td>-0.142010</td>\n",
       "      <td>-0.898828</td>\n",
       "      <td>3.024665</td>\n",
       "      <td>-1.218847</td>\n",
       "      <td>...</td>\n",
       "      <td>-0.673019</td>\n",
       "      <td>0.336561</td>\n",
       "      <td>-1.728965</td>\n",
       "      <td>0.838200</td>\n",
       "      <td>-1.757691</td>\n",
       "      <td>1.016270</td>\n",
       "      <td>-0.341123</td>\n",
       "      <td>1.755912</td>\n",
       "      <td>-2.495307</td>\n",
       "      <td>-1.592792</td>\n",
       "    </tr>\n",
       "    <tr>\n",
       "      <th>2</th>\n",
       "      <td>0.532075</td>\n",
       "      <td>0.351692</td>\n",
       "      <td>1.681428</td>\n",
       "      <td>-0.378444</td>\n",
       "      <td>0.083192</td>\n",
       "      <td>-0.025651</td>\n",
       "      <td>1.138451</td>\n",
       "      <td>3.229792</td>\n",
       "      <td>0.884533</td>\n",
       "      <td>-1.554071</td>\n",
       "      <td>...</td>\n",
       "      <td>0.921317</td>\n",
       "      <td>2.718859</td>\n",
       "      <td>3.449477</td>\n",
       "      <td>0.638919</td>\n",
       "      <td>1.987297</td>\n",
       "      <td>-0.436890</td>\n",
       "      <td>1.006541</td>\n",
       "      <td>1.308215</td>\n",
       "      <td>-0.083445</td>\n",
       "      <td>0.827814</td>\n",
       "    </tr>\n",
       "    <tr>\n",
       "      <th>3</th>\n",
       "      <td>1.251915</td>\n",
       "      <td>1.786023</td>\n",
       "      <td>0.807163</td>\n",
       "      <td>0.039276</td>\n",
       "      <td>-0.839495</td>\n",
       "      <td>-0.141341</td>\n",
       "      <td>-1.205433</td>\n",
       "      <td>1.072443</td>\n",
       "      <td>0.958422</td>\n",
       "      <td>0.314656</td>\n",
       "      <td>...</td>\n",
       "      <td>0.045549</td>\n",
       "      <td>0.360135</td>\n",
       "      <td>0.663551</td>\n",
       "      <td>1.034513</td>\n",
       "      <td>0.266529</td>\n",
       "      <td>1.196549</td>\n",
       "      <td>0.143852</td>\n",
       "      <td>-0.798355</td>\n",
       "      <td>0.396003</td>\n",
       "      <td>-0.226641</td>\n",
       "    </tr>\n",
       "    <tr>\n",
       "      <th>4</th>\n",
       "      <td>0.119933</td>\n",
       "      <td>-0.843112</td>\n",
       "      <td>-0.758622</td>\n",
       "      <td>-0.423293</td>\n",
       "      <td>-0.628406</td>\n",
       "      <td>-0.250547</td>\n",
       "      <td>-1.071935</td>\n",
       "      <td>-0.941690</td>\n",
       "      <td>-0.486178</td>\n",
       "      <td>-0.403354</td>\n",
       "      <td>...</td>\n",
       "      <td>-0.393919</td>\n",
       "      <td>-0.604515</td>\n",
       "      <td>-0.510811</td>\n",
       "      <td>-0.713500</td>\n",
       "      <td>-0.844404</td>\n",
       "      <td>-1.471473</td>\n",
       "      <td>-0.194117</td>\n",
       "      <td>-1.176916</td>\n",
       "      <td>-0.295700</td>\n",
       "      <td>-0.832966</td>\n",
       "    </tr>\n",
       "  </tbody>\n",
       "</table>\n",
       "<p>5 rows × 101 columns</p>\n",
       "</div>"
      ],
      "text/plain": [
       "   barbarapompili  delphinebatho  stanguerini  gilbertcollard   fderugy  \\\n",
       "0        1.613334      -0.288592     0.679581        1.427705 -0.212930   \n",
       "1       -0.771101      -1.399999     1.842466       -0.751024  2.409731   \n",
       "2        0.532075       0.351692     1.681428       -0.378444  0.083192   \n",
       "3        1.251915       1.786023     0.807163        0.039276 -0.839495   \n",
       "4        0.119933      -0.843112    -0.758622       -0.423293 -0.628406   \n",
       "\n",
       "   oliviagregoire  lachaudb  sylviapinel  bretonxavier  aquatennens    ...     \\\n",
       "0       -0.383216 -0.444958     0.894010     -0.775320     1.733256    ...      \n",
       "1        0.828630 -0.142010    -0.898828      3.024665    -1.218847    ...      \n",
       "2       -0.025651  1.138451     3.229792      0.884533    -1.554071    ...      \n",
       "3       -0.141341 -1.205433     1.072443      0.958422     0.314656    ...      \n",
       "4       -0.250547 -1.071935    -0.941690     -0.486178    -0.403354    ...      \n",
       "\n",
       "      rue89  partisocialiste      lobs  enmarchefr  lexpress  fn_officiel  \\\n",
       "0 -0.859131         0.947330 -0.000066    1.786108  1.558724    -0.276248   \n",
       "1 -0.673019         0.336561 -1.728965    0.838200 -1.757691     1.016270   \n",
       "2  0.921317         2.718859  3.449477    0.638919  1.987297    -0.436890   \n",
       "3  0.045549         0.360135  0.663551    1.034513  0.266529     1.196549   \n",
       "4 -0.393919        -0.604515 -0.510811   -0.713500 -0.844404    -1.471473   \n",
       "\n",
       "   lesechos  lesrepublicains   slatefr   lepoint  \n",
       "0 -1.803179         0.141189  1.529592  0.561496  \n",
       "1 -0.341123         1.755912 -2.495307 -1.592792  \n",
       "2  1.006541         1.308215 -0.083445  0.827814  \n",
       "3  0.143852        -0.798355  0.396003 -0.226641  \n",
       "4 -0.194117        -1.176916 -0.295700 -0.832966  \n",
       "\n",
       "[5 rows x 101 columns]"
      ]
     },
     "execution_count": 4,
     "metadata": {},
     "output_type": "execute_result"
    }
   ],
   "source": [
    "samples_phi.head()"
   ]
  },
  {
   "cell_type": "code",
   "execution_count": 5,
   "metadata": {},
   "outputs": [
    {
     "name": "stdout",
     "output_type": "stream",
     "text": [
      "0.982607934941\n"
     ]
    }
   ],
   "source": [
    "# i subtract the mean to get negative values too\n",
    "phi = samples_phi.mean(axis=0)\n",
    "print(phi.mean())\n",
    "phi_center = phi - phi.mean()"
   ]
  },
  {
   "cell_type": "code",
   "execution_count": 6,
   "metadata": {},
   "outputs": [
    {
     "data": {
      "image/png": "[encoded data removed]",
      "text/plain": [
       "<matplotlib.figure.Figure at 0x105f5b278>"
      ]
     },
     "metadata": {},
     "output_type": "display_data"
    }
   ],
   "source": [
    "plt.figure(figsize=(8,6), dpi=80)\n",
    "plt.subplot(111)\n",
    "plt.hist(phi, bins=40)\n",
    "plt.title(\"Politcal Ideologies\")\n",
    "plt.xlabel(\"Ideology\")\n",
    "plt.ylabel(\"Count\")\n",
    "plt.show()"
   ]
  },
  {
   "cell_type": "code",
   "execution_count": 7,
   "metadata": {},
   "outputs": [
    {
     "ename": "NameError",
     "evalue": "name 'elites_data' is not defined",
     "output_type": "error",
     "traceback": [
      "\u001b[0;31m---------------------------------------------------------------------------\u001b[0m",
      "\u001b[0;31mNameError\u001b[0m                                 Traceback (most recent call last)",
      "\u001b[0;32m<ipython-input-7-b6d66a0bce00>\u001b[0m in \u001b[0;36m<module>\u001b[0;34m()\u001b[0m\n\u001b[1;32m      4\u001b[0m \u001b[0mapi\u001b[0m \u001b[0;34m=\u001b[0m \u001b[0mutils\u001b[0m\u001b[0;34m.\u001b[0m\u001b[0mget_tweepy_api\u001b[0m\u001b[0;34m(\u001b[0m\u001b[0;36m3\u001b[0m\u001b[0;34m)\u001b[0m\u001b[0;34m\u001b[0m\u001b[0m\n\u001b[1;32m      5\u001b[0m \u001b[0mfollowers\u001b[0m \u001b[0;34m=\u001b[0m \u001b[0;34m[\u001b[0m\u001b[0;34m]\u001b[0m\u001b[0;34m\u001b[0m\u001b[0m\n\u001b[0;32m----> 6\u001b[0;31m \u001b[0;32mfor\u001b[0m \u001b[0mi\u001b[0m \u001b[0;32min\u001b[0m \u001b[0mrange\u001b[0m\u001b[0;34m(\u001b[0m\u001b[0melites_data\u001b[0m\u001b[0;34m.\u001b[0m\u001b[0mshape\u001b[0m\u001b[0;34m[\u001b[0m\u001b[0;36m0\u001b[0m\u001b[0;34m]\u001b[0m\u001b[0;34m)\u001b[0m\u001b[0;34m:\u001b[0m\u001b[0;34m\u001b[0m\u001b[0m\n\u001b[0m\u001b[1;32m      7\u001b[0m     \u001b[0meid\u001b[0m\u001b[0;34m,\u001b[0m \u001b[0mname\u001b[0m \u001b[0;34m=\u001b[0m \u001b[0melites_data\u001b[0m\u001b[0;34m.\u001b[0m\u001b[0miloc\u001b[0m\u001b[0;34m[\u001b[0m\u001b[0mi\u001b[0m\u001b[0;34m]\u001b[0m\u001b[0;34m[\u001b[0m\u001b[0;34m[\u001b[0m\u001b[0;34m'id'\u001b[0m\u001b[0;34m,\u001b[0m \u001b[0;34m'screen_name'\u001b[0m\u001b[0;34m]\u001b[0m\u001b[0;34m]\u001b[0m\u001b[0;34m\u001b[0m\u001b[0m\n\u001b[1;32m      8\u001b[0m     \u001b[0muser\u001b[0m \u001b[0;34m=\u001b[0m \u001b[0mutils\u001b[0m\u001b[0;34m.\u001b[0m\u001b[0mtweepy_api_call\u001b[0m\u001b[0;34m(\u001b[0m\u001b[0mapi\u001b[0m\u001b[0;34m.\u001b[0m\u001b[0mget_user\u001b[0m\u001b[0;34m,\u001b[0m \u001b[0mid\u001b[0m\u001b[0;34m=\u001b[0m\u001b[0meid\u001b[0m\u001b[0;34m)\u001b[0m\u001b[0;34m\u001b[0m\u001b[0m\n",
      "\u001b[0;31mNameError\u001b[0m: name 'elites_data' is not defined"
     ]
    }
   ],
   "source": [
    "#skip this cell\n",
    "import utils\n",
    "import tweepy\n",
    "api = utils.get_tweepy_api(3)\n",
    "followers = []\n",
    "for i in range(elites_data.shape[0]):\n",
    "    eid, name = elites_data.iloc[i][['id', 'screen_name']]\n",
    "    user = utils.tweepy_api_call(api.get_user, id=eid)\n",
    "    if not user:\n",
    "        print(name)\n",
    "        continue\n",
    "    followers.append((user.followers_count, name))"
   ]
  },
  {
   "cell_type": "code",
   "execution_count": null,
   "metadata": {},
   "outputs": [],
   "source": [
    "#skip this cell\n",
    "import json\n",
    "print(json.dumps(sorted(followers, reverse=True), indent=2))"
   ]
  },
  {
   "cell_type": "code",
   "execution_count": 8,
   "metadata": {
    "collapsed": true
   },
   "outputs": [],
   "source": [
    "vip = [\n",
    "    'mlp_officiel',\n",
    "    'le_figaro',\n",
    "    'libe',\n",
    "    '20minutes',\n",
    "    'jlmelenchon',\n",
    "    'lesrepublicains',\n",
    "    'partisocialiste',\n",
    "    'dupontaignan',\n",
    "    'jclagarde',\n",
    "    'gilbertcollard',\n",
    "    'slefoll'\n",
    "]\n"
   ]
  },
  {
   "cell_type": "code",
   "execution_count": 9,
   "metadata": {},
   "outputs": [
    {
     "data": {
      "image/png": "[encoded data removed]",
      "text/plain": [
       "<matplotlib.figure.Figure at 0x10ee1ac18>"
      ]
     },
     "metadata": {},
     "output_type": "display_data"
    }
   ],
   "source": [
    "plt.figure(figsize=(8,6), dpi=80)\n",
    "plt.subplot(111)\n",
    "\n",
    "sort = phi_center[vip].sort_values()\n",
    "y_labels = list(sort.index)\n",
    "x = np.arange(len(vip))\n",
    "plt.plot(sort.values, x, '.')\n",
    "plt.title(\"Politcal Ideologies\")\n",
    "plt.xlabel(\"Ideology\")\n",
    "plt.ylabel(\"Entity\")\n",
    "\n",
    "plt.xlim(sort.values[0]-0.1, sort.values[-1]+0.1)\n",
    "\n",
    "plt.yticks(np.arange(len(vip)), y_labels)\n",
    "\n",
    "plt.show()"
   ]
  },
  {
   "cell_type": "code",
   "execution_count": null,
   "metadata": {
    "collapsed": true
   },
   "outputs": [],
   "source": []
  }
 ],
 "metadata": {
  "kernelspec": {
   "display_name": "Python [conda env:1013_proj]",
   "language": "python",
   "name": "conda-env-1013_proj-py"
  },
  "language_info": {
   "codemirror_mode": {
    "name": "ipython",
    "version": 3
   },
   "file_extension": ".py",
   "mimetype": "text/x-python",
   "name": "python",
   "nbconvert_exporter": "python",
   "pygments_lexer": "ipython3",
   "version": "3.6.2"
  }
 },
 "nbformat": 4,
 "nbformat_minor": 2
}
