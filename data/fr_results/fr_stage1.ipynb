{
 "cells": [
  {
   "cell_type": "code",
   "execution_count": 40,
   "metadata": {
    "collapsed": true
   },
   "outputs": [],
   "source": [
    "import pandas as pd\n",
    "import matplotlib\n",
    "import numpy as np\n",
    "import matplotlib.pyplot as plt\n",
    "%matplotlib inline  "
   ]
  },
  {
   "cell_type": "code",
   "execution_count": 41,
   "metadata": {
    "collapsed": false
   },
   "outputs": [],
   "source": [
    "data_dir = 'run-3261117/'\n",
    "data_dir = 'run-3261120/'\n",
    "samples_phi = pd.read_csv(data_dir + \"fr_samples_phi.csv\")\n",
    "#adj_matrix = pd.read_csv(\"adj-matrix-FR-stage1.csv\",index_col=0)\n",
    "#elites_data = pd.read_csv(\"fr_elites_data.csv\",index_col=0)"
   ]
  },
  {
   "cell_type": "code",
   "execution_count": 42,
   "metadata": {
    "collapsed": false
   },
   "outputs": [
    {
     "data": {
      "text/plain": [
       "(100, 101)"
      ]
     },
     "execution_count": 42,
     "metadata": {},
     "output_type": "execute_result"
    }
   ],
   "source": [
    "samples_phi.shape"
   ]
  },
  {
   "cell_type": "code",
   "execution_count": 43,
   "metadata": {
    "collapsed": false
   },
   "outputs": [
    {
     "data": {
      "text/html": [
       "<div>\n",
       "<style>\n",
       "    .dataframe thead tr:only-child th {\n",
       "        text-align: right;\n",
       "    }\n",
       "\n",
       "    .dataframe thead th {\n",
       "        text-align: left;\n",
       "    }\n",
       "\n",
       "    .dataframe tbody tr th {\n",
       "        vertical-align: top;\n",
       "    }\n",
       "</style>\n",
       "<table border=\"1\" class=\"dataframe\">\n",
       "  <thead>\n",
       "    <tr style=\"text-align: right;\">\n",
       "      <th></th>\n",
       "      <th>barbarapompili</th>\n",
       "      <th>delphinebatho</th>\n",
       "      <th>stanguerini</th>\n",
       "      <th>gilbertcollard</th>\n",
       "      <th>fderugy</th>\n",
       "      <th>oliviagregoire</th>\n",
       "      <th>lachaudb</th>\n",
       "      <th>sylviapinel</th>\n",
       "      <th>bretonxavier</th>\n",
       "      <th>aquatennens</th>\n",
       "      <th>...</th>\n",
       "      <th>rue89</th>\n",
       "      <th>partisocialiste</th>\n",
       "      <th>lobs</th>\n",
       "      <th>enmarchefr</th>\n",
       "      <th>lexpress</th>\n",
       "      <th>fn_officiel</th>\n",
       "      <th>lesechos</th>\n",
       "      <th>lesrepublicains</th>\n",
       "      <th>slatefr</th>\n",
       "      <th>lepoint</th>\n",
       "    </tr>\n",
       "  </thead>\n",
       "  <tbody>\n",
       "    <tr>\n",
       "      <th>0</th>\n",
       "      <td>0.096222</td>\n",
       "      <td>0.251044</td>\n",
       "      <td>-0.431728</td>\n",
       "      <td>-0.297347</td>\n",
       "      <td>0.048228</td>\n",
       "      <td>0.235612</td>\n",
       "      <td>1.320532</td>\n",
       "      <td>-0.593505</td>\n",
       "      <td>-0.107846</td>\n",
       "      <td>-0.189492</td>\n",
       "      <td>...</td>\n",
       "      <td>-0.951930</td>\n",
       "      <td>-0.015394</td>\n",
       "      <td>-0.728730</td>\n",
       "      <td>0.623640</td>\n",
       "      <td>0.446469</td>\n",
       "      <td>0.131457</td>\n",
       "      <td>0.042742</td>\n",
       "      <td>-0.889306</td>\n",
       "      <td>0.729959</td>\n",
       "      <td>-0.651416</td>\n",
       "    </tr>\n",
       "    <tr>\n",
       "      <th>1</th>\n",
       "      <td>-0.025386</td>\n",
       "      <td>0.199682</td>\n",
       "      <td>-0.691422</td>\n",
       "      <td>-0.353894</td>\n",
       "      <td>-0.216518</td>\n",
       "      <td>-0.536532</td>\n",
       "      <td>1.296850</td>\n",
       "      <td>-1.828289</td>\n",
       "      <td>-0.916471</td>\n",
       "      <td>-0.831208</td>\n",
       "      <td>...</td>\n",
       "      <td>0.969146</td>\n",
       "      <td>-0.492272</td>\n",
       "      <td>-0.849257</td>\n",
       "      <td>0.675692</td>\n",
       "      <td>0.667562</td>\n",
       "      <td>-0.197269</td>\n",
       "      <td>0.260847</td>\n",
       "      <td>-1.222903</td>\n",
       "      <td>0.847191</td>\n",
       "      <td>-1.245148</td>\n",
       "    </tr>\n",
       "    <tr>\n",
       "      <th>2</th>\n",
       "      <td>-0.126616</td>\n",
       "      <td>0.332517</td>\n",
       "      <td>0.620160</td>\n",
       "      <td>-0.225133</td>\n",
       "      <td>-0.193097</td>\n",
       "      <td>-2.126384</td>\n",
       "      <td>1.363083</td>\n",
       "      <td>-1.436881</td>\n",
       "      <td>-7.190618</td>\n",
       "      <td>-1.123352</td>\n",
       "      <td>...</td>\n",
       "      <td>2.041623</td>\n",
       "      <td>-0.847457</td>\n",
       "      <td>-1.249907</td>\n",
       "      <td>0.752974</td>\n",
       "      <td>1.056678</td>\n",
       "      <td>0.012811</td>\n",
       "      <td>0.025225</td>\n",
       "      <td>-1.183569</td>\n",
       "      <td>0.918793</td>\n",
       "      <td>-1.422896</td>\n",
       "    </tr>\n",
       "    <tr>\n",
       "      <th>3</th>\n",
       "      <td>0.164419</td>\n",
       "      <td>0.335352</td>\n",
       "      <td>-1.329705</td>\n",
       "      <td>-0.235551</td>\n",
       "      <td>-0.205237</td>\n",
       "      <td>-0.600639</td>\n",
       "      <td>1.182986</td>\n",
       "      <td>-1.676123</td>\n",
       "      <td>-1.399476</td>\n",
       "      <td>-0.370617</td>\n",
       "      <td>...</td>\n",
       "      <td>0.165866</td>\n",
       "      <td>-0.466992</td>\n",
       "      <td>-0.290201</td>\n",
       "      <td>0.543741</td>\n",
       "      <td>0.427544</td>\n",
       "      <td>0.098866</td>\n",
       "      <td>0.133500</td>\n",
       "      <td>-1.184623</td>\n",
       "      <td>1.101981</td>\n",
       "      <td>-0.936509</td>\n",
       "    </tr>\n",
       "    <tr>\n",
       "      <th>4</th>\n",
       "      <td>0.225962</td>\n",
       "      <td>0.286940</td>\n",
       "      <td>-0.023807</td>\n",
       "      <td>-0.372864</td>\n",
       "      <td>-0.067681</td>\n",
       "      <td>-0.513469</td>\n",
       "      <td>1.256928</td>\n",
       "      <td>-0.449750</td>\n",
       "      <td>-0.370890</td>\n",
       "      <td>-0.806541</td>\n",
       "      <td>...</td>\n",
       "      <td>-0.010287</td>\n",
       "      <td>-0.550149</td>\n",
       "      <td>-0.423017</td>\n",
       "      <td>0.545169</td>\n",
       "      <td>0.452531</td>\n",
       "      <td>0.202404</td>\n",
       "      <td>0.016121</td>\n",
       "      <td>-1.031788</td>\n",
       "      <td>0.654652</td>\n",
       "      <td>-0.763862</td>\n",
       "    </tr>\n",
       "  </tbody>\n",
       "</table>\n",
       "<p>5 rows × 101 columns</p>\n",
       "</div>"
      ],
      "text/plain": [
       "   barbarapompili  delphinebatho  stanguerini  gilbertcollard   fderugy  \\\n",
       "0        0.096222       0.251044    -0.431728       -0.297347  0.048228   \n",
       "1       -0.025386       0.199682    -0.691422       -0.353894 -0.216518   \n",
       "2       -0.126616       0.332517     0.620160       -0.225133 -0.193097   \n",
       "3        0.164419       0.335352    -1.329705       -0.235551 -0.205237   \n",
       "4        0.225962       0.286940    -0.023807       -0.372864 -0.067681   \n",
       "\n",
       "   oliviagregoire  lachaudb  sylviapinel  bretonxavier  aquatennens    ...     \\\n",
       "0        0.235612  1.320532    -0.593505     -0.107846    -0.189492    ...      \n",
       "1       -0.536532  1.296850    -1.828289     -0.916471    -0.831208    ...      \n",
       "2       -2.126384  1.363083    -1.436881     -7.190618    -1.123352    ...      \n",
       "3       -0.600639  1.182986    -1.676123     -1.399476    -0.370617    ...      \n",
       "4       -0.513469  1.256928    -0.449750     -0.370890    -0.806541    ...      \n",
       "\n",
       "      rue89  partisocialiste      lobs  enmarchefr  lexpress  fn_officiel  \\\n",
       "0 -0.951930        -0.015394 -0.728730    0.623640  0.446469     0.131457   \n",
       "1  0.969146        -0.492272 -0.849257    0.675692  0.667562    -0.197269   \n",
       "2  2.041623        -0.847457 -1.249907    0.752974  1.056678     0.012811   \n",
       "3  0.165866        -0.466992 -0.290201    0.543741  0.427544     0.098866   \n",
       "4 -0.010287        -0.550149 -0.423017    0.545169  0.452531     0.202404   \n",
       "\n",
       "   lesechos  lesrepublicains   slatefr   lepoint  \n",
       "0  0.042742        -0.889306  0.729959 -0.651416  \n",
       "1  0.260847        -1.222903  0.847191 -1.245148  \n",
       "2  0.025225        -1.183569  0.918793 -1.422896  \n",
       "3  0.133500        -1.184623  1.101981 -0.936509  \n",
       "4  0.016121        -1.031788  0.654652 -0.763862  \n",
       "\n",
       "[5 rows x 101 columns]"
      ]
     },
     "execution_count": 43,
     "metadata": {},
     "output_type": "execute_result"
    }
   ],
   "source": [
    "samples_phi.head()"
   ]
  },
  {
   "cell_type": "code",
   "execution_count": 44,
   "metadata": {
    "collapsed": false
   },
   "outputs": [
    {
     "name": "stdout",
     "output_type": "stream",
     "text": [
      "-0.03606159485\n"
     ]
    }
   ],
   "source": [
    "# i subtract the mean to get negative values too\n",
    "phi = samples_phi.mean(axis=0)\n",
    "print(phi.mean())\n",
    "phi_center = phi - phi.mean()"
   ]
  },
  {
   "cell_type": "code",
   "execution_count": 45,
   "metadata": {
    "collapsed": false
   },
   "outputs": [
    {
     "data": {
      "image/png": "[encoded data removed]",
      "text/plain": [
       "<matplotlib.figure.Figure at 0x10fcbf668>"
      ]
     },
     "metadata": {},
     "output_type": "display_data"
    }
   ],
   "source": [
    "plt.figure(figsize=(8,6), dpi=80)\n",
    "plt.subplot(111)\n",
    "y,binEdges=np.histogram(phi, bins=12, density=True)\n",
    "bincenters = 0.5*(binEdges[1:]+binEdges[:-1])\n",
    "plt.plot(bincenters,y,'-')\n",
    "plt.title(\"Politcal Ideologies Density\")\n",
    "plt.xlabel(\"Ideology\")\n",
    "plt.ylabel(\"Count\")\n",
    "plt.show()"
   ]
  },
  {
   "cell_type": "code",
   "execution_count": 46,
   "metadata": {
    "collapsed": false
   },
   "outputs": [
    {
     "ename": "NameError",
     "evalue": "name 'elites_data' is not defined",
     "output_type": "error",
     "traceback": [
      "\u001b[0;31m---------------------------------------------------------------------------\u001b[0m",
      "\u001b[0;31mNameError\u001b[0m                                 Traceback (most recent call last)",
      "\u001b[0;32m<ipython-input-46-b6d66a0bce00>\u001b[0m in \u001b[0;36m<module>\u001b[0;34m()\u001b[0m\n\u001b[1;32m      4\u001b[0m \u001b[0mapi\u001b[0m \u001b[0;34m=\u001b[0m \u001b[0mutils\u001b[0m\u001b[0;34m.\u001b[0m\u001b[0mget_tweepy_api\u001b[0m\u001b[0;34m(\u001b[0m\u001b[0;36m3\u001b[0m\u001b[0;34m)\u001b[0m\u001b[0;34m\u001b[0m\u001b[0m\n\u001b[1;32m      5\u001b[0m \u001b[0mfollowers\u001b[0m \u001b[0;34m=\u001b[0m \u001b[0;34m[\u001b[0m\u001b[0;34m]\u001b[0m\u001b[0;34m\u001b[0m\u001b[0m\n\u001b[0;32m----> 6\u001b[0;31m \u001b[0;32mfor\u001b[0m \u001b[0mi\u001b[0m \u001b[0;32min\u001b[0m \u001b[0mrange\u001b[0m\u001b[0;34m(\u001b[0m\u001b[0melites_data\u001b[0m\u001b[0;34m.\u001b[0m\u001b[0mshape\u001b[0m\u001b[0;34m[\u001b[0m\u001b[0;36m0\u001b[0m\u001b[0;34m]\u001b[0m\u001b[0;34m)\u001b[0m\u001b[0;34m:\u001b[0m\u001b[0;34m\u001b[0m\u001b[0m\n\u001b[0m\u001b[1;32m      7\u001b[0m     \u001b[0meid\u001b[0m\u001b[0;34m,\u001b[0m \u001b[0mname\u001b[0m \u001b[0;34m=\u001b[0m \u001b[0melites_data\u001b[0m\u001b[0;34m.\u001b[0m\u001b[0miloc\u001b[0m\u001b[0;34m[\u001b[0m\u001b[0mi\u001b[0m\u001b[0;34m]\u001b[0m\u001b[0;34m[\u001b[0m\u001b[0;34m[\u001b[0m\u001b[0;34m'id'\u001b[0m\u001b[0;34m,\u001b[0m \u001b[0;34m'screen_name'\u001b[0m\u001b[0;34m]\u001b[0m\u001b[0;34m]\u001b[0m\u001b[0;34m\u001b[0m\u001b[0m\n\u001b[1;32m      8\u001b[0m     \u001b[0muser\u001b[0m \u001b[0;34m=\u001b[0m \u001b[0mutils\u001b[0m\u001b[0;34m.\u001b[0m\u001b[0mtweepy_api_call\u001b[0m\u001b[0;34m(\u001b[0m\u001b[0mapi\u001b[0m\u001b[0;34m.\u001b[0m\u001b[0mget_user\u001b[0m\u001b[0;34m,\u001b[0m \u001b[0mid\u001b[0m\u001b[0;34m=\u001b[0m\u001b[0meid\u001b[0m\u001b[0;34m)\u001b[0m\u001b[0;34m\u001b[0m\u001b[0m\n",
      "\u001b[0;31mNameError\u001b[0m: name 'elites_data' is not defined"
     ]
    }
   ],
   "source": [
    "#skip this cell\n",
    "import utils\n",
    "import tweepy\n",
    "api = utils.get_tweepy_api(3)\n",
    "followers = []\n",
    "for i in range(elites_data.shape[0]):\n",
    "    eid, name = elites_data.iloc[i][['id', 'screen_name']]\n",
    "    user = utils.tweepy_api_call(api.get_user, id=eid)\n",
    "    if not user:\n",
    "        print(name)\n",
    "        continue\n",
    "    followers.append((user.followers_count, name))"
   ]
  },
  {
   "cell_type": "code",
   "execution_count": null,
   "metadata": {
    "collapsed": true
   },
   "outputs": [],
   "source": [
    "#skip this cell\n",
    "import json\n",
    "print(json.dumps(sorted(followers, reverse=True), indent=2))"
   ]
  },
  {
   "cell_type": "code",
   "execution_count": 48,
   "metadata": {
    "collapsed": true
   },
   "outputs": [],
   "source": [
    "vip = [\n",
    "    'mlp_officiel',\n",
    "    'le_figaro',\n",
    "    'libe',\n",
    "    '20minutes',\n",
    "    'jlmelenchon',\n",
    "    'lesrepublicains',\n",
    "    'partisocialiste',\n",
    "    'dupontaignan',\n",
    "    'jclagarde',\n",
    "    'gilbertcollard',\n",
    "    'slefoll'\n",
    "]\n"
   ]
  },
  {
   "cell_type": "code",
   "execution_count": 49,
   "metadata": {
    "collapsed": false
   },
   "outputs": [
    {
     "data": {
      "image/png": "[encoded data removed]",
      "text/plain": [
       "<matplotlib.figure.Figure at 0x10725cd68>"
      ]
     },
     "metadata": {},
     "output_type": "display_data"
    }
   ],
   "source": [
    "plt.figure(figsize=(8,6), dpi=80)\n",
    "plt.subplot(111)\n",
    "\n",
    "sort = phi_center[vip].sort_values()\n",
    "y_labels = list(sort.index)\n",
    "x = np.arange(len(vip))\n",
    "plt.plot(sort.values, x, '.')\n",
    "plt.title(\"Politcal Ideologies\")\n",
    "plt.xlabel(\"Ideology\")\n",
    "plt.ylabel(\"Entity\")\n",
    "\n",
    "plt.xlim(sort.values[0]-0.1, sort.values[-1]+0.1)\n",
    "\n",
    "plt.yticks(np.arange(len(vip)), y_labels)\n",
    "\n",
    "plt.show()"
   ]
  },
  {
   "cell_type": "code",
   "execution_count": null,
   "metadata": {
    "collapsed": true
   },
   "outputs": [],
   "source": []
  }
 ],
 "metadata": {
  "kernelspec": {
   "display_name": "Python [conda env:1013_proj]",
   "language": "python",
   "name": "conda-env-1013_proj-py"
  },
  "language_info": {
   "codemirror_mode": {
    "name": "ipython",
    "version": 3
   },
   "file_extension": ".py",
   "mimetype": "text/x-python",
   "name": "python",
   "nbconvert_exporter": "python",
   "pygments_lexer": "ipython3",
   "version": "3.6.2"
  }
 },
 "nbformat": 4,
 "nbformat_minor": 2
}
