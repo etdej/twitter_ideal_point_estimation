{
 "cells": [
  {
   "cell_type": "code",
   "execution_count": 34,
   "metadata": {
    "collapsed": true
   },
   "outputs": [],
   "source": [
    "import pandas as pd\n",
    "import matplotlib\n",
    "import numpy as np\n",
    "import matplotlib.pyplot as plt\n",
    "%matplotlib inline  "
   ]
  },
  {
   "cell_type": "code",
   "execution_count": 13,
   "metadata": {},
   "outputs": [],
   "source": [
    "samples_phi = pd.read_csv(\"samples_phi.csv\")\n",
    "barb_samples_phi = pd.read_csv(\"../barbera_data/samples_phi.csv\")\n",
    "names = pd.read_csv(\"../barbera_data/samples_names.csv\")\n",
    "samples_mu_phi = pd.read_csv(\"samples_mu_phi.csv\")\n",
    "samples_sigma_phi = pd.read_csv(\"samples_sigma_phi.csv\")\n",
    "#adj_matrix = pd.read_csv(\"adj-matrix-FR-stage1.csv\",index_col=0)\n",
    "#elites_data = pd.read_csv(\"fr_elites_data.csv\",index_col=0)"
   ]
  },
  {
   "cell_type": "code",
   "execution_count": 23,
   "metadata": {},
   "outputs": [],
   "source": [
    "to_remove = ['pedropierluisi', 'EleanorNorton']\n",
    "barb_phi = barb_phi.drop('phi.115', axis=0)\n",
    "barb_phi = barb_phi.drop('phi.177', axis=0)"
   ]
  },
  {
   "cell_type": "code",
   "execution_count": 7,
   "metadata": {
    "collapsed": true
   },
   "outputs": [],
   "source": [
    "barb_phi = barb_samples_phi.mean(axis=0)"
   ]
  },
  {
   "cell_type": "code",
   "execution_count": 42,
   "metadata": {
    "collapsed": true
   },
   "outputs": [],
   "source": [
    "barb_phi_center = barb_phi - barb_phi.mean()\n",
    "phi_center = phi - phi.mean()"
   ]
  },
  {
   "cell_type": "code",
   "execution_count": 50,
   "metadata": {},
   "outputs": [
    {
     "data": {
      "text/plain": [
       "0.099257802027511624"
      ]
     },
     "execution_count": 50,
     "metadata": {},
     "output_type": "execute_result"
    }
   ],
   "source": [
    "phi_center.values.dot(barb_phi_center.values)/(np.linalg.norm(phi_center)*np.linalg.norm(barb_phi_center))"
   ]
  },
  {
   "cell_type": "code",
   "execution_count": 8,
   "metadata": {},
   "outputs": [
    {
     "name": "stdout",
     "output_type": "stream",
     "text": [
      "0.0550634963666\n",
      "-0.00869135801825\n",
      "1.68720601831\n"
     ]
    }
   ],
   "source": [
    "# i subtract the mean to get negative values too\n",
    "phi = samples_phi.mean(axis=0)\n",
    "mu_phi = samples_mu_phi.mean(axis=0)\n",
    "sigma_phi = samples_sigma_phi.mean(axis=0)\n",
    "print(phi.mean())\n",
    "print(mu_phi.mean())\n",
    "print(sigma_phi.mean())"
   ]
  },
  {
   "cell_type": "code",
   "execution_count": 34,
   "metadata": {},
   "outputs": [
    {
     "data": {
      "image/png": "[encoded data removed]",
      "text/plain": [
       "<matplotlib.figure.Figure at 0x11e352780>"
      ]
     },
     "metadata": {},
     "output_type": "display_data"
    }
   ],
   "source": [
    "plt.figure(figsize=(8,6), dpi=80)\n",
    "plt.subplot(111)\n",
    "y,binEdges=np.histogram(phi, bins=15, density=True)\n",
    "bincenters = 0.5*(binEdges[1:]+binEdges[:-1])\n",
    "plt.plot(bincenters,y,'-')\n",
    "plt.title(\"Politcal Ideologies Density\")\n",
    "plt.xlabel(\"Ideology\")\n",
    "plt.ylabel(\"Count\")\n",
    "plt.show()"
   ]
  },
  {
   "cell_type": "code",
   "execution_count": null,
   "metadata": {
    "collapsed": true
   },
   "outputs": [],
   "source": [
    "##### skip this cell\n",
    "import utils\n",
    "import tweepy\n",
    "api = utils.get_tweepy_api(3)\n",
    "followers = []\n",
    "for i in range(elites_data.shape[0]):\n",
    "    eid, name = elites_data.iloc[i][['id', 'screen_name']]\n",
    "    user = utils.tweepy_api_call(api.get_user, id=eid)\n",
    "    if not user:\n",
    "        print(name)\n",
    "        continue\n",
    "    followers.append((user.followers_count, name))"
   ]
  },
  {
   "cell_type": "code",
   "execution_count": null,
   "metadata": {
    "collapsed": true
   },
   "outputs": [],
   "source": [
    "#skip this cell\n",
    "import json\n",
    "print(json.dumps(sorted(followers, reverse=True), indent=2))"
   ]
  },
  {
   "cell_type": "code",
   "execution_count": 52,
   "metadata": {
    "collapsed": true
   },
   "outputs": [],
   "source": [
    "vip = [\n",
    "    'glennbeck',\n",
    "    'FoxNews',\n",
    "    'MittRomney',\n",
    "    'SarahPalinUSA',\n",
    "    'newtgingrich',\n",
    "    'nytimes',\n",
    "    'algore',\n",
    "    'BarackObama',\n",
    "    'maddow'\n",
    "]\n"
   ]
  },
  {
   "cell_type": "code",
   "execution_count": 53,
   "metadata": {},
   "outputs": [
    {
     "data": {
      "text/plain": [
       "glennbeck        1.076726\n",
       "FoxNews          2.448009\n",
       "MittRomney       0.427697\n",
       "SarahPalinUSA    1.471114\n",
       "newtgingrich     0.404426\n",
       "nytimes          1.117123\n",
       "algore          -0.564392\n",
       "BarackObama     -0.110664\n",
       "maddow           0.177281\n",
       "dtype: float64"
      ]
     },
     "execution_count": 53,
     "metadata": {},
     "output_type": "execute_result"
    }
   ],
   "source": [
    "phi[vip]"
   ]
  },
  {
   "cell_type": "code",
   "execution_count": 54,
   "metadata": {},
   "outputs": [
    {
     "data": {
      "image/png": "[encoded data removed]",
      "text/plain": [
       "<matplotlib.figure.Figure at 0x10d646320>"
      ]
     },
     "metadata": {},
     "output_type": "display_data"
    }
   ],
   "source": [
    "plt.figure(figsize=(8,6), dpi=80)\n",
    "plt.subplot(111)\n",
    "\n",
    "sort = phi[vip].sort_values()\n",
    "y_labels = list(sort.index)\n",
    "x = np.arange(len(vip))\n",
    "plt.plot(sort.values, x, '.')\n",
    "plt.title(\"Politcal Ideologies\")\n",
    "plt.xlabel(\"Ideology\")\n",
    "plt.ylabel(\"Entity\")\n",
    "\n",
    "plt.xlim(sort.values[0]-0.1, sort.values[-1]+0.1)\n",
    "\n",
    "plt.yticks(np.arange(len(vip)), y_labels)\n",
    "\n",
    "plt.show()"
   ]
  },
  {
   "cell_type": "code",
   "execution_count": 55,
   "metadata": {
    "collapsed": true
   },
   "outputs": [],
   "source": [
    "samples_sigma_alpha = pd.read_csv(\"samples_sigma_alpha.csv\")\n",
    "samples_alpha = pd.read_csv(\"samples_alpha.csv\")"
   ]
  },
  {
   "cell_type": "code",
   "execution_count": 56,
   "metadata": {},
   "outputs": [
    {
     "name": "stdout",
     "output_type": "stream",
     "text": [
      "-1.11507921835\n",
      "1.14243362275\n"
     ]
    }
   ],
   "source": [
    "sigma_alpha = samples_sigma_alpha.mean(axis=0)\n",
    "alpha = samples_alpha.mean(axis=0)\n",
    "print(alpha.mean())\n",
    "print(sigma_alpha.mean())"
   ]
  },
  {
   "cell_type": "code",
   "execution_count": null,
   "metadata": {
    "collapsed": true
   },
   "outputs": [],
   "source": []
  }
 ],
 "metadata": {
  "kernelspec": {
   "display_name": "Python [conda env:1013_proj]",
   "language": "python",
   "name": "conda-env-1013_proj-py"
  },
  "language_info": {
   "codemirror_mode": {
    "name": "ipython",
    "version": 3
   },
   "file_extension": ".py",
   "mimetype": "text/x-python",
   "name": "python",
   "nbconvert_exporter": "python",
   "pygments_lexer": "ipython3",
   "version": "3.6.2"
  }
 },
 "nbformat": 4,
 "nbformat_minor": 2
}
