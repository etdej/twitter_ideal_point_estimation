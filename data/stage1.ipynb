{
 "cells": [
  {
   "cell_type": "code",
   "execution_count": 1,
   "metadata": {
    "collapsed": true
   },
   "outputs": [],
   "source": [
    "import pandas as pd\n",
    "import numpy as np"
   ]
  },
  {
   "cell_type": "code",
   "execution_count": 2,
   "metadata": {},
   "outputs": [],
   "source": [
    "df = pd.read_csv(\"adj-matrix-US.csv\")"
   ]
  },
  {
   "cell_type": "code",
   "execution_count": 3,
   "metadata": {
    "collapsed": true
   },
   "outputs": [],
   "source": [
    "us_elites = pd.read_csv(\"elitesUS.csv\", usecols=[\"US.screen_name\", \"US.party\"])\n",
    "names = list(us_elites['US.screen_name'])\n",
    "party = list(us_elites['US.party'])\n",
    "us_party = pd.DataFrame(np.array(party).reshape(1, len(party)), columns=names)"
   ]
  },
  {
   "cell_type": "code",
   "execution_count": 4,
   "metadata": {},
   "outputs": [
    {
     "data": {
      "text/plain": [
       "Index(['BarackObama', 'nytimes', 'Schwarzenegger', 'algore', 'maddow',\n",
       "       'FoxNews', 'MittRomney', 'MMFlint', 'JerryBrownGov', 'SarahPalinUSA',\n",
       "       ...\n",
       "       'Sen_JoeManchin', 'SenDanCoats', 'RepJimMcDermott', 'replouiegohmert',\n",
       "       'RandyNeugebauer', 'McConnellPress', 'RepJimMatheson',\n",
       "       'SenJohnBarrasso', 'repcleaver', 'zachwamp'],\n",
       "      dtype='object', length=318)"
      ]
     },
     "execution_count": 4,
     "metadata": {},
     "output_type": "execute_result"
    }
   ],
   "source": [
    "df.columns"
   ]
  },
  {
   "cell_type": "code",
   "execution_count": 5,
   "metadata": {
    "collapsed": true
   },
   "outputs": [],
   "source": [
    "i = df.shape[0]\n",
    "if i > 10000 :\n",
    "    i = 10000\n",
    "    subset = np.where(df.sum(axis=1) > 10)\n"
   ]
  },
  {
   "cell_type": "code",
   "execution_count": 6,
   "metadata": {
    "collapsed": true
   },
   "outputs": [],
   "source": [
    "subset = np.where(df.sum(axis=1) > 10)\n",
    "subset = np.random.choice(np.array(subset[0]), i)"
   ]
  },
  {
   "cell_type": "code",
   "execution_count": 7,
   "metadata": {
    "collapsed": true
   },
   "outputs": [],
   "source": [
    "df_subset = df.iloc[subset]"
   ]
  },
  {
   "cell_type": "code",
   "execution_count": 8,
   "metadata": {
    "collapsed": true
   },
   "outputs": [],
   "source": [
    "subset_polit = np.where(df_subset.sum(axis=0) > 200)\n",
    "df_subset_subset = df_subset[df.columns[subset_polit]]"
   ]
  },
  {
   "cell_type": "code",
   "execution_count": 9,
   "metadata": {},
   "outputs": [],
   "source": [
    "y = df_subset_subset\n",
    "J = df_subset_subset.shape[0]\n",
    "K = df_subset_subset.shape[1]\n",
    "stan_data = dict(\n",
    "    J = J,\n",
    "    K = K,\n",
    "    N = J*K,\n",
    "    jj = list(range(1, J+1))*K,\n",
    "    kk = np.repeat(list(range(1, K+1)), J),\n",
    "    y= y.as_matrix().flatten().tolist())"
   ]
  },
  {
   "cell_type": "code",
   "execution_count": 10,
   "metadata": {},
   "outputs": [],
   "source": [
    "us_party = us_party[y.columns]\n",
    "us_party = us_party.transpose()"
   ]
  },
  {
   "cell_type": "code",
   "execution_count": 11,
   "metadata": {},
   "outputs": [
    {
     "data": {
      "text/plain": [
       "array([-1.,  0.,  1., -1.,  0.,  0.,  1.,  0., -1.,  1.,  0.,  0.,  1.,\n",
       "        0.,  1.,  1.,  1., -1., -1.,  1.,  1.,  0., -1.,  1.,  1.,  1.,\n",
       "        0.,  1., -1.,  0.,  0.,  1.,  1., -1., -1.,  0.,  1., -1.,  0.,\n",
       "       -1.,  1., -1., -1.,  1.,  1., -1., -1.,  1.,  1., -1.,  1.,  1.,\n",
       "       -1.,  1.,  1., -1.,  1.,  1.,  1., -1., -1., -1.,  1., -1., -1.,\n",
       "       -1.,  1., -1., -1.,  1.,  1.,  1., -1.,  0., -1.,  1., -1.,  1.,\n",
       "        1.,  1.,  1., -1.,  1., -1., -1.,  1., -1.,  1.,  1.,  1., -1.,\n",
       "       -1.,  1., -1.,  1.,  1.,  1., -1.,  1.,  1.,  1.,  1., -1.,  1.,\n",
       "        1.,  1.,  1.,  1.,  1., -1.,  1.,  0.,  1., -1., -1.,  1., -1.,\n",
       "        1.,  1.,  1.,  1.,  1.,  0.,  1.,  0., -1.,  1.,  0.,  0.,  1.,\n",
       "       -1., -1., -1.,  0.,  1.,  1.,  0., -1., -1.,  1.,  1.,  1.,  0.,\n",
       "       -1.,  1.,  1.,  1.,  0.,  1.,  0.,  0.,  1.,  1.,  1.,  1., -1.,\n",
       "        0.,  1., -1., -1.,  1.,  1., -1.,  1.,  1.,  1.,  1.,  1.,  1.,\n",
       "        1.,  1.])"
      ]
     },
     "execution_count": 11,
     "metadata": {},
     "output_type": "execute_result"
    }
   ],
   "source": [
    "phi = np.zeros(us_party.shape[0])\n",
    "phi[np.where(us_party[0] == 'D')[0]] = -1\n",
    "phi[np.where(us_party[0] == 'R')[0]] = 1\n",
    "phi"
   ]
  },
  {
   "cell_type": "code",
   "execution_count": 12,
   "metadata": {
    "collapsed": true
   },
   "outputs": [],
   "source": [
    "def normalize(x):\n",
    "    center = x - x.mean()\n",
    "    return center/center.std()"
   ]
  },
  {
   "cell_type": "code",
   "execution_count": 13,
   "metadata": {
    "collapsed": true
   },
   "outputs": [],
   "source": [
    "stan_init = dict(\n",
    "    alpha = normalize(np.log(y.sum(axis=0) + 0.0001)),\n",
    "    sigma_alpha = 1,\n",
    "    beta = normalize(np.log(y.sum(axis=1) + 0.0001)),\n",
    "    mu_beta = 0,\n",
    "    sigma_beta = 1,\n",
    "    theta = np.random.normal(size=(J)),\n",
    "    phi = phi,\n",
    "    mu_phi = 0,\n",
    "    sigma_phi = 1,\n",
    "    gamma = np.random.normal()\n",
    "    \n",
    ")"
   ]
  },
  {
   "cell_type": "code",
   "execution_count": 14,
   "metadata": {},
   "outputs": [
    {
     "data": {
      "text/plain": [
       "(171,)"
      ]
     },
     "execution_count": 14,
     "metadata": {},
     "output_type": "execute_result"
    }
   ],
   "source": [
    "y.sum(axis=0).shape"
   ]
  },
  {
   "cell_type": "code",
   "execution_count": 15,
   "metadata": {
    "collapsed": true
   },
   "outputs": [],
   "source": [
    "import pystan"
   ]
  },
  {
   "cell_type": "code",
   "execution_count": 16,
   "metadata": {
    "collapsed": true
   },
   "outputs": [],
   "source": [
    "stan_model =\"\"\"\n",
    "data {\n",
    "  int<lower=1> J; // number of twitter users\n",
    "  int<lower=1> K; // number of elite twitter accounts\n",
    "  int<lower=1> N; // N = J x K\n",
    "  int<lower=1,upper=J> jj[N]; // twitter user for observation n\n",
    "  int<lower=1,upper=K> kk[N]; // elite account for observation n\n",
    "  int<lower=0,upper=1> y[N]; // dummy if user i follows elite j\n",
    "}\n",
    "parameters {\n",
    "  vector[K] alpha;\n",
    "  vector[K] phi;\n",
    "  vector[J] theta;\n",
    "  vector[J] beta;\n",
    "  real mu_beta;\n",
    "  real<lower=0.1> sigma_beta;\n",
    "  real mu_phi;\n",
    "  real<lower=0.1> sigma_phi;\n",
    "  real<lower=0.1> sigma_alpha;\n",
    "  real gamma;\n",
    "}\n",
    "model {\n",
    "  alpha ~ normal(0, sigma_alpha);\n",
    "  beta ~ normal(mu_beta, sigma_beta);\n",
    "  phi ~ normal(mu_phi, sigma_phi);\n",
    "  theta ~ normal(0, 1); \n",
    "  for (n in 1:N)\n",
    "    y[n] ~ bernoulli_logit( alpha[kk[n]] + beta[jj[n]] - \n",
    "      gamma * square( theta[jj[n]] - phi[kk[n]] ) );\n",
    "}\"\"\""
   ]
  },
  {
   "cell_type": "code",
   "execution_count": 17,
   "metadata": {},
   "outputs": [
    {
     "name": "stderr",
     "output_type": "stream",
     "text": [
      "INFO:pystan:COMPILING THE C++ CODE FOR MODEL anon_model_f24e4100521aad1af08de4ce922cdb65 NOW.\n"
     ]
    }
   ],
   "source": [
    "#sm = pystan.stan(model_code=stan_model,\n",
    "#                     data=stan_data,\n",
    "#                     init=stan_init,\n",
    "#                     iter=1,\n",
    "#                     warmup=0,\n",
    "#                     chains=1)\n",
    "sm = pystan.StanModel(model_code=stan_model)"
   ]
  },
  {
   "cell_type": "code",
   "execution_count": 45,
   "metadata": {},
   "outputs": [],
   "source": [
    "samp = sm.sampling(data=stan_data,\n",
    "                 init=[stan_init],\n",
    "                 iter=5,\n",
    "                 #thin=2\n",
    "                 #warmup=0,\n",
    "                 chains=1)"
   ]
  },
  {
   "cell_type": "code",
   "execution_count": 46,
   "metadata": {
    "collapsed": true
   },
   "outputs": [],
   "source": [
    "la = samp.extract()  # return a dictionary of arrays"
   ]
  },
  {
   "cell_type": "code",
   "execution_count": 48,
   "metadata": {},
   "outputs": [
    {
     "data": {
      "text/plain": [
       "(3, 171)"
      ]
     },
     "execution_count": 48,
     "metadata": {},
     "output_type": "execute_result"
    }
   ],
   "source": [
    "phi = la['phi']\n",
    "phi.shape"
   ]
  },
  {
   "cell_type": "code",
   "execution_count": 54,
   "metadata": {},
   "outputs": [],
   "source": [
    "order= np.argsort(phi[0, :])"
   ]
  },
  {
   "cell_type": "code",
   "execution_count": 22,
   "metadata": {},
   "outputs": [],
   "source": [
    "import matplotlib\n",
    "%matplotlib inline"
   ]
  },
  {
   "cell_type": "code",
   "execution_count": 47,
   "metadata": {},
   "outputs": [
    {
     "data": {
      "text/plain": [
       "(1, 171)"
      ]
     },
     "execution_count": 47,
     "metadata": {},
     "output_type": "execute_result"
    }
   ],
   "source": [
    "phi.shape"
   ]
  },
  {
   "cell_type": "code",
   "execution_count": 56,
   "metadata": {},
   "outputs": [
    {
     "data": {
      "text/plain": [
       "Index(['BarackObama', 'NancyPelosi', 'JoeBiden', 'TheDemocrats', 'algore',\n",
       "       'DWStweets', 'SenatorReid', 'alfranken', 'Obama2012', 'GabbyGiffords',\n",
       "       ...\n",
       "       'RickSantorum', 'JimDeMint', 'MicheleBachmann', 'EricCantor',\n",
       "       'marcorubio', 'johnboehner', 'KarlRove', 'RepPaulRyan', 'MittRomney',\n",
       "       'SpeakerBoehner'],\n",
       "      dtype='object', length=171)"
      ]
     },
     "execution_count": 56,
     "metadata": {},
     "output_type": "execute_result"
    }
   ],
   "source": [
    "y.columns[order]"
   ]
  },
  {
   "cell_type": "code",
   "execution_count": 59,
   "metadata": {},
   "outputs": [
    {
     "data": {
      "text/plain": [
       "array([[ -1.05459075e+00,  -1.05445198e+00,  -1.03411746e+00,\n",
       "         -1.03393309e+00,  -1.03375454e+00,  -1.02798042e+00,\n",
       "         -1.02632205e+00,  -1.02146171e+00,  -1.01648603e+00,\n",
       "         -1.01513718e+00,  -1.01436993e+00,  -1.01356712e+00,\n",
       "         -1.00662109e+00,  -1.00444346e+00,  -1.00218216e+00,\n",
       "         -1.00122919e+00,  -1.00068559e+00,  -9.99773721e-01,\n",
       "         -9.98758806e-01,  -9.97213236e-01,  -9.96792662e-01,\n",
       "         -9.92372496e-01,  -9.91567376e-01,  -9.90027774e-01,\n",
       "         -9.84684524e-01,  -9.84189933e-01,  -9.84084176e-01,\n",
       "         -9.84041157e-01,  -9.79718380e-01,  -9.79499887e-01,\n",
       "         -9.79404688e-01,  -9.78463744e-01,  -9.78454700e-01,\n",
       "         -9.77624209e-01,  -9.76776397e-01,  -9.75986914e-01,\n",
       "         -9.75835709e-01,  -9.75688304e-01,  -9.75079070e-01,\n",
       "         -9.74400243e-01,  -9.74268725e-01,  -9.73934310e-01,\n",
       "         -9.73726369e-01,  -9.72958004e-01,  -9.69800025e-01,\n",
       "         -9.69799668e-01,  -9.68877994e-01,  -9.68101357e-01,\n",
       "         -9.68077405e-01,  -9.66810692e-01,  -9.64548459e-01,\n",
       "         -9.59446019e-01,  -9.55816376e-01,  -1.12970758e-02,\n",
       "         -1.10703206e-02,  -9.91591716e-03,  -8.09854547e-03,\n",
       "         -7.81020235e-03,  -7.77016153e-03,  -6.12160354e-03,\n",
       "         -5.80186160e-03,  -4.69537349e-03,  -4.45982271e-03,\n",
       "         -3.69025017e-03,  -2.91308915e-03,  -2.88035588e-03,\n",
       "         -2.17231615e-03,  -7.83788131e-04,  -6.05841588e-04,\n",
       "         -1.48363779e-04,   1.81351048e-03,   1.82436842e-03,\n",
       "          2.25772804e-03,   2.42443696e-03,   3.13774083e-03,\n",
       "          3.87185684e-03,   4.36032532e-03,   9.23428907e-03,\n",
       "          1.08397210e-02,   9.58288749e-01,   9.61769786e-01,\n",
       "          9.61839371e-01,   9.63026494e-01,   9.63325408e-01,\n",
       "          9.64745314e-01,   9.65602666e-01,   9.66612363e-01,\n",
       "          9.66889810e-01,   9.67966283e-01,   9.68043375e-01,\n",
       "          9.68046156e-01,   9.68805057e-01,   9.69639936e-01,\n",
       "          9.71037252e-01,   9.71752280e-01,   9.72247611e-01,\n",
       "          9.72714449e-01,   9.73653743e-01,   9.73888589e-01,\n",
       "          9.74789787e-01,   9.75037433e-01,   9.75608443e-01,\n",
       "          9.76390346e-01,   9.76462792e-01,   9.77141021e-01,\n",
       "          9.77335846e-01,   9.77514599e-01,   9.77990393e-01,\n",
       "          9.79501291e-01,   9.79694525e-01,   9.79834660e-01,\n",
       "          9.79878283e-01,   9.80275119e-01,   9.80287769e-01,\n",
       "          9.80583616e-01,   9.81152172e-01,   9.81341473e-01,\n",
       "          9.81359671e-01,   9.81922524e-01,   9.82011446e-01,\n",
       "          9.84819441e-01,   9.85338240e-01,   9.86404712e-01,\n",
       "          9.86902478e-01,   9.87567684e-01,   9.88579158e-01,\n",
       "          9.88612741e-01,   9.89519473e-01,   9.89799479e-01,\n",
       "          9.90088657e-01,   9.91207692e-01,   9.91645273e-01,\n",
       "          9.91766140e-01,   9.91922002e-01,   9.94084516e-01,\n",
       "          9.98042163e-01,   9.98587460e-01,   1.00158021e+00,\n",
       "          1.00201044e+00,   1.00413952e+00,   1.00536179e+00,\n",
       "          1.00540382e+00,   1.00556490e+00,   1.00624472e+00,\n",
       "          1.00647588e+00,   1.00672035e+00,   1.01025047e+00,\n",
       "          1.01200634e+00,   1.01327811e+00,   1.01396075e+00,\n",
       "          1.01436561e+00,   1.01519304e+00,   1.01767450e+00,\n",
       "          1.01844242e+00,   1.01926231e+00,   1.01935201e+00,\n",
       "          1.03045216e+00,   1.03108100e+00,   1.03442640e+00,\n",
       "          1.03616203e+00,   1.03650649e+00,   1.03772115e+00,\n",
       "          1.03901826e+00,   1.03922993e+00,   1.04000521e+00,\n",
       "          1.04698510e+00,   1.04790388e+00,   1.05089616e+00,\n",
       "          1.05386786e+00,   1.05515476e+00,   1.05666946e+00],\n",
       "       [ -1.05459075e+00,  -1.05445198e+00,  -1.03411746e+00,\n",
       "         -1.03393309e+00,  -1.03375454e+00,  -1.02798042e+00,\n",
       "         -1.02632205e+00,  -1.02146171e+00,  -1.01648603e+00,\n",
       "         -1.01513718e+00,  -1.01436993e+00,  -1.01356712e+00,\n",
       "         -1.00662109e+00,  -1.00444346e+00,  -1.00218216e+00,\n",
       "         -1.00122919e+00,  -1.00068559e+00,  -9.99773721e-01,\n",
       "         -9.98758806e-01,  -9.97213236e-01,  -9.96792662e-01,\n",
       "         -9.92372496e-01,  -9.91567376e-01,  -9.90027774e-01,\n",
       "         -9.84684524e-01,  -9.84189933e-01,  -9.84084176e-01,\n",
       "         -9.84041157e-01,  -9.79718380e-01,  -9.79499887e-01,\n",
       "         -9.79404688e-01,  -9.78463744e-01,  -9.78454700e-01,\n",
       "         -9.77624209e-01,  -9.76776397e-01,  -9.75986914e-01,\n",
       "         -9.75835709e-01,  -9.75688304e-01,  -9.75079070e-01,\n",
       "         -9.74400243e-01,  -9.74268725e-01,  -9.73934310e-01,\n",
       "         -9.73726369e-01,  -9.72958004e-01,  -9.69800025e-01,\n",
       "         -9.69799668e-01,  -9.68877994e-01,  -9.68101357e-01,\n",
       "         -9.68077405e-01,  -9.66810692e-01,  -9.64548459e-01,\n",
       "         -9.59446019e-01,  -9.55816376e-01,  -1.12970758e-02,\n",
       "         -1.10703206e-02,  -9.91591716e-03,  -8.09854547e-03,\n",
       "         -7.81020235e-03,  -7.77016153e-03,  -6.12160354e-03,\n",
       "         -5.80186160e-03,  -4.69537349e-03,  -4.45982271e-03,\n",
       "         -3.69025017e-03,  -2.91308915e-03,  -2.88035588e-03,\n",
       "         -2.17231615e-03,  -7.83788131e-04,  -6.05841588e-04,\n",
       "         -1.48363779e-04,   1.81351048e-03,   1.82436842e-03,\n",
       "          2.25772804e-03,   2.42443696e-03,   3.13774083e-03,\n",
       "          3.87185684e-03,   4.36032532e-03,   9.23428907e-03,\n",
       "          1.08397210e-02,   9.58288749e-01,   9.61769786e-01,\n",
       "          9.61839371e-01,   9.63026494e-01,   9.63325408e-01,\n",
       "          9.64745314e-01,   9.65602666e-01,   9.66612363e-01,\n",
       "          9.66889810e-01,   9.67966283e-01,   9.68043375e-01,\n",
       "          9.68046156e-01,   9.68805057e-01,   9.69639936e-01,\n",
       "          9.71037252e-01,   9.71752280e-01,   9.72247611e-01,\n",
       "          9.72714449e-01,   9.73653743e-01,   9.73888589e-01,\n",
       "          9.74789787e-01,   9.75037433e-01,   9.75608443e-01,\n",
       "          9.76390346e-01,   9.76462792e-01,   9.77141021e-01,\n",
       "          9.77335846e-01,   9.77514599e-01,   9.77990393e-01,\n",
       "          9.79501291e-01,   9.79694525e-01,   9.79834660e-01,\n",
       "          9.79878283e-01,   9.80275119e-01,   9.80287769e-01,\n",
       "          9.80583616e-01,   9.81152172e-01,   9.81341473e-01,\n",
       "          9.81359671e-01,   9.81922524e-01,   9.82011446e-01,\n",
       "          9.84819441e-01,   9.85338240e-01,   9.86404712e-01,\n",
       "          9.86902478e-01,   9.87567684e-01,   9.88579158e-01,\n",
       "          9.88612741e-01,   9.89519473e-01,   9.89799479e-01,\n",
       "          9.90088657e-01,   9.91207692e-01,   9.91645273e-01,\n",
       "          9.91766140e-01,   9.91922002e-01,   9.94084516e-01,\n",
       "          9.98042163e-01,   9.98587460e-01,   1.00158021e+00,\n",
       "          1.00201044e+00,   1.00413952e+00,   1.00536179e+00,\n",
       "          1.00540382e+00,   1.00556490e+00,   1.00624472e+00,\n",
       "          1.00647588e+00,   1.00672035e+00,   1.01025047e+00,\n",
       "          1.01200634e+00,   1.01327811e+00,   1.01396075e+00,\n",
       "          1.01436561e+00,   1.01519304e+00,   1.01767450e+00,\n",
       "          1.01844242e+00,   1.01926231e+00,   1.01935201e+00,\n",
       "          1.03045216e+00,   1.03108100e+00,   1.03442640e+00,\n",
       "          1.03616203e+00,   1.03650649e+00,   1.03772115e+00,\n",
       "          1.03901826e+00,   1.03922993e+00,   1.04000521e+00,\n",
       "          1.04698510e+00,   1.04790388e+00,   1.05089616e+00,\n",
       "          1.05386786e+00,   1.05515476e+00,   1.05666946e+00],\n",
       "       [ -1.05459075e+00,  -1.05445198e+00,  -1.03411746e+00,\n",
       "         -1.03393309e+00,  -1.03375454e+00,  -1.02798042e+00,\n",
       "         -1.02632205e+00,  -1.02146171e+00,  -1.01648603e+00,\n",
       "         -1.01513718e+00,  -1.01436993e+00,  -1.01356712e+00,\n",
       "         -1.00662109e+00,  -1.00444346e+00,  -1.00218216e+00,\n",
       "         -1.00122919e+00,  -1.00068559e+00,  -9.99773721e-01,\n",
       "         -9.98758806e-01,  -9.97213236e-01,  -9.96792662e-01,\n",
       "         -9.92372496e-01,  -9.91567376e-01,  -9.90027774e-01,\n",
       "         -9.84684524e-01,  -9.84189933e-01,  -9.84084176e-01,\n",
       "         -9.84041157e-01,  -9.79718380e-01,  -9.79499887e-01,\n",
       "         -9.79404688e-01,  -9.78463744e-01,  -9.78454700e-01,\n",
       "         -9.77624209e-01,  -9.76776397e-01,  -9.75986914e-01,\n",
       "         -9.75835709e-01,  -9.75688304e-01,  -9.75079070e-01,\n",
       "         -9.74400243e-01,  -9.74268725e-01,  -9.73934310e-01,\n",
       "         -9.73726369e-01,  -9.72958004e-01,  -9.69800025e-01,\n",
       "         -9.69799668e-01,  -9.68877994e-01,  -9.68101357e-01,\n",
       "         -9.68077405e-01,  -9.66810692e-01,  -9.64548459e-01,\n",
       "         -9.59446019e-01,  -9.55816376e-01,  -1.12970758e-02,\n",
       "         -1.10703206e-02,  -9.91591716e-03,  -8.09854547e-03,\n",
       "         -7.81020235e-03,  -7.77016153e-03,  -6.12160354e-03,\n",
       "         -5.80186160e-03,  -4.69537349e-03,  -4.45982271e-03,\n",
       "         -3.69025017e-03,  -2.91308915e-03,  -2.88035588e-03,\n",
       "         -2.17231615e-03,  -7.83788131e-04,  -6.05841588e-04,\n",
       "         -1.48363779e-04,   1.81351048e-03,   1.82436842e-03,\n",
       "          2.25772804e-03,   2.42443696e-03,   3.13774083e-03,\n",
       "          3.87185684e-03,   4.36032532e-03,   9.23428907e-03,\n",
       "          1.08397210e-02,   9.58288749e-01,   9.61769786e-01,\n",
       "          9.61839371e-01,   9.63026494e-01,   9.63325408e-01,\n",
       "          9.64745314e-01,   9.65602666e-01,   9.66612363e-01,\n",
       "          9.66889810e-01,   9.67966283e-01,   9.68043375e-01,\n",
       "          9.68046156e-01,   9.68805057e-01,   9.69639936e-01,\n",
       "          9.71037252e-01,   9.71752280e-01,   9.72247611e-01,\n",
       "          9.72714449e-01,   9.73653743e-01,   9.73888589e-01,\n",
       "          9.74789787e-01,   9.75037433e-01,   9.75608443e-01,\n",
       "          9.76390346e-01,   9.76462792e-01,   9.77141021e-01,\n",
       "          9.77335846e-01,   9.77514599e-01,   9.77990393e-01,\n",
       "          9.79501291e-01,   9.79694525e-01,   9.79834660e-01,\n",
       "          9.79878283e-01,   9.80275119e-01,   9.80287769e-01,\n",
       "          9.80583616e-01,   9.81152172e-01,   9.81341473e-01,\n",
       "          9.81359671e-01,   9.81922524e-01,   9.82011446e-01,\n",
       "          9.84819441e-01,   9.85338240e-01,   9.86404712e-01,\n",
       "          9.86902478e-01,   9.87567684e-01,   9.88579158e-01,\n",
       "          9.88612741e-01,   9.89519473e-01,   9.89799479e-01,\n",
       "          9.90088657e-01,   9.91207692e-01,   9.91645273e-01,\n",
       "          9.91766140e-01,   9.91922002e-01,   9.94084516e-01,\n",
       "          9.98042163e-01,   9.98587460e-01,   1.00158021e+00,\n",
       "          1.00201044e+00,   1.00413952e+00,   1.00536179e+00,\n",
       "          1.00540382e+00,   1.00556490e+00,   1.00624472e+00,\n",
       "          1.00647588e+00,   1.00672035e+00,   1.01025047e+00,\n",
       "          1.01200634e+00,   1.01327811e+00,   1.01396075e+00,\n",
       "          1.01436561e+00,   1.01519304e+00,   1.01767450e+00,\n",
       "          1.01844242e+00,   1.01926231e+00,   1.01935201e+00,\n",
       "          1.03045216e+00,   1.03108100e+00,   1.03442640e+00,\n",
       "          1.03616203e+00,   1.03650649e+00,   1.03772115e+00,\n",
       "          1.03901826e+00,   1.03922993e+00,   1.04000521e+00,\n",
       "          1.04698510e+00,   1.04790388e+00,   1.05089616e+00,\n",
       "          1.05386786e+00,   1.05515476e+00,   1.05666946e+00]])"
      ]
     },
     "execution_count": 59,
     "metadata": {},
     "output_type": "execute_result"
    }
   ],
   "source": [
    "phi[:, order]"
   ]
  },
  {
   "cell_type": "code",
   "execution_count": null,
   "metadata": {
    "collapsed": true
   },
   "outputs": [],
   "source": []
  }
 ],
 "metadata": {
  "kernelspec": {
   "display_name": "Python 3",
   "language": "python",
   "name": "python3"
  },
  "language_info": {
   "codemirror_mode": {
    "name": "ipython",
    "version": 3
   },
   "file_extension": ".py",
   "mimetype": "text/x-python",
   "name": "python",
   "nbconvert_exporter": "python",
   "pygments_lexer": "ipython3",
   "version": "3.6.1"
  }
 },
 "nbformat": 4,
 "nbformat_minor": 2
}
