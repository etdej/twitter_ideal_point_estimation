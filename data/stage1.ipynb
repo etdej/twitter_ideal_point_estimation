{
 "cells": [
  {
   "cell_type": "code",
   "execution_count": 44,
   "metadata": {
    "collapsed": true
   },
   "outputs": [],
   "source": [
    "import pandas as pd\n",
    "import numpy as np\n",
    "import pystan\n",
    "%matplotlib inline"
   ]
  },
  {
   "cell_type": "code",
   "execution_count": 2,
   "metadata": {
    "collapsed": true
   },
   "outputs": [],
   "source": [
    "df = pd.read_csv(\"adj-matrix-US.csv\", sep=' ')"
   ]
  },
  {
   "cell_type": "code",
   "execution_count": 3,
   "metadata": {
    "collapsed": true
   },
   "outputs": [],
   "source": [
    "us_elites = pd.read_csv(\"elitesUS.csv\", usecols=[\"US.screen_name\", \"US.party\"])\n",
    "names = list(us_elites['US.screen_name'])\n",
    "party = list(us_elites['US.party'])\n",
    "us_party = pd.DataFrame(np.array(party).reshape(1, len(party)), columns=names)"
   ]
  },
  {
   "cell_type": "code",
   "execution_count": 4,
   "metadata": {},
   "outputs": [
    {
     "data": {
      "text/plain": [
       "Index(['BarackObama', 'nytimes', 'Schwarzenegger', 'algore', 'maddow',\n",
       "       'FoxNews', 'MittRomney', 'MMFlint', 'JerryBrownGov', 'SarahPalinUSA',\n",
       "       ...\n",
       "       'Sen_JoeManchin', 'SenDanCoats', 'RepJimMcDermott', 'replouiegohmert',\n",
       "       'RandyNeugebauer', 'McConnellPress', 'RepJimMatheson',\n",
       "       'SenJohnBarrasso', 'repcleaver', 'zachwamp'],\n",
       "      dtype='object', length=318)"
      ]
     },
     "execution_count": 4,
     "metadata": {},
     "output_type": "execute_result"
    }
   ],
   "source": [
    "df.columns"
   ]
  },
  {
   "cell_type": "code",
   "execution_count": 5,
   "metadata": {
    "collapsed": true
   },
   "outputs": [],
   "source": [
    "i = df.shape[0]\n",
    "if i > 10000 :\n",
    "    i = 1000\n",
    "subset = np.where(df.sum(axis=1) > 10)\n",
    "subset = np.random.choice(np.array(subset[0]), i)\n",
    "df_subset = df.iloc[subset]"
   ]
  },
  {
   "cell_type": "code",
   "execution_count": 6,
   "metadata": {
    "collapsed": true
   },
   "outputs": [],
   "source": [
    "subset_polit = np.where(df_subset.sum(axis=0) > 200)\n",
    "df_subset_subset = df_subset[df.columns[subset_polit]]"
   ]
  },
  {
   "cell_type": "code",
   "execution_count": 7,
   "metadata": {
    "collapsed": true
   },
   "outputs": [],
   "source": [
    "y = df_subset_subset\n",
    "J = df_subset_subset.shape[0]\n",
    "K = df_subset_subset.shape[1]\n",
    "stan_data = dict(\n",
    "    J = J,\n",
    "    K = K,\n",
    "    N = J*K,\n",
    "    jj = list(range(1, J+1))*K,\n",
    "    kk = np.repeat(list(range(1, K+1)), J),\n",
    "    y= y.as_matrix().flatten().tolist())"
   ]
  },
  {
   "cell_type": "code",
   "execution_count": 8,
   "metadata": {
    "collapsed": true
   },
   "outputs": [],
   "source": [
    "us_party = us_party[y.columns]\n",
    "us_party = us_party.transpose()"
   ]
  },
  {
   "cell_type": "code",
   "execution_count": 9,
   "metadata": {},
   "outputs": [
    {
     "data": {
      "text/plain": [
       "array([-1.,  0.,  0.,  0.,  1.,  0.,  0.,  1.,  0.,  1.,  1., -1., -1.,\n",
       "        1.,  0.,  1.,  1.,  1.,  0., -1.,  1.,  1., -1.,  0.,  1., -1.,\n",
       "        1.,  1.,  1.,  1.,  0.,  0.,  1.,  1.])"
      ]
     },
     "execution_count": 9,
     "metadata": {},
     "output_type": "execute_result"
    }
   ],
   "source": [
    "phi = np.zeros(us_party.shape[0])\n",
    "phi[np.where(us_party[0] == 'D')[0]] = -1\n",
    "phi[np.where(us_party[0] == 'R')[0]] = 1\n",
    "phi"
   ]
  },
  {
   "cell_type": "code",
   "execution_count": 10,
   "metadata": {
    "collapsed": true
   },
   "outputs": [],
   "source": [
    "def normalize(x):\n",
    "    center = x - x.mean()\n",
    "    return center/center.std()"
   ]
  },
  {
   "cell_type": "code",
   "execution_count": 11,
   "metadata": {
    "collapsed": true
   },
   "outputs": [],
   "source": [
    "stan_init = dict(\n",
    "    alpha = normalize(np.log(y.sum(axis=0) + 0.0001)),\n",
    "    sigma_alpha = 1,\n",
    "    beta = normalize(np.log(y.sum(axis=1) + 0.0001)),\n",
    "    mu_beta = 0,\n",
    "    sigma_beta = 1,\n",
    "    theta = np.random.normal(size=(J)),\n",
    "    phi = phi,\n",
    "    mu_phi = 0,\n",
    "    sigma_phi = 1,\n",
    "    gamma = np.random.normal()\n",
    "    \n",
    ")"
   ]
  },
  {
   "cell_type": "code",
   "execution_count": 12,
   "metadata": {},
   "outputs": [
    {
     "data": {
      "text/plain": [
       "(34,)"
      ]
     },
     "execution_count": 12,
     "metadata": {},
     "output_type": "execute_result"
    }
   ],
   "source": [
    "y.sum(axis=0).shape"
   ]
  },
  {
   "cell_type": "code",
   "execution_count": 14,
   "metadata": {
    "collapsed": true
   },
   "outputs": [],
   "source": [
    "stan_model =\"\"\"\n",
    "data {\n",
    "  int<lower=1> J; // number of twitter users\n",
    "  int<lower=1> K; // number of elite twitter accounts\n",
    "  int<lower=1> N; // N = J x K\n",
    "  int<lower=1,upper=J> jj[N]; // twitter user for observation n\n",
    "  int<lower=1,upper=K> kk[N]; // elite account for observation n\n",
    "  int<lower=0,upper=1> y[N]; // dummy if user i follows elite j\n",
    "}\n",
    "parameters {\n",
    "  vector[K] alpha;\n",
    "  vector[K] phi;\n",
    "  vector[J] theta;\n",
    "  vector[J] beta;\n",
    "  real mu_beta;\n",
    "  real<lower=0.1> sigma_beta;\n",
    "  real mu_phi;\n",
    "  real<lower=0.1> sigma_phi;\n",
    "  real gamma;\n",
    "}\n",
    "model {\n",
    "  alpha ~ normal(0, 1);\n",
    "  beta ~ normal(mu_beta, sigma_beta);\n",
    "  phi ~ normal(mu_phi, sigma_phi);\n",
    "  theta ~ normal(0, 1); \n",
    "  for (n in 1:N)\n",
    "    y[n] ~ bernoulli_logit( alpha[kk[n]] + beta[jj[n]] - \n",
    "      gamma * square( theta[jj[n]] - phi[kk[n]] ) );\n",
    "}\"\"\""
   ]
  },
  {
   "cell_type": "code",
   "execution_count": 15,
   "metadata": {},
   "outputs": [
    {
     "name": "stderr",
     "output_type": "stream",
     "text": [
      "INFO:pystan:COMPILING THE C++ CODE FOR MODEL anon_model_448ecd31a46f77c3c105b8438015699a NOW.\n"
     ]
    }
   ],
   "source": [
    "#sm = pystan.stan(model_code=stan_model,\n",
    "#                     data=stan_data,\n",
    "#                     init=stan_init,\n",
    "#                     iter=1,\n",
    "#                     warmup=0,\n",
    "#                     chains=1)\n",
    "sm = pystan.StanModel(model_code=stan_model)"
   ]
  },
  {
   "cell_type": "code",
   "execution_count": 17,
   "metadata": {},
   "outputs": [],
   "source": [
    "samp = sm.sampling(data=stan_data,\n",
    "                 init=[stan_init],\n",
    "                 iter=100,\n",
    "                 #thin=2,\n",
    "                 warmup=10,\n",
    "                 chains=1)"
   ]
  },
  {
   "cell_type": "code",
   "execution_count": 18,
   "metadata": {
    "collapsed": true
   },
   "outputs": [],
   "source": [
    "la = samp.extract()  # return a dictionary of arrays"
   ]
  },
  {
   "cell_type": "code",
   "execution_count": 39,
   "metadata": {},
   "outputs": [
    {
     "name": "stdout",
     "output_type": "stream",
     "text": [
      "alpha\n",
      "(90, 34)\n",
      "phi\n",
      "(90, 34)\n",
      "theta\n",
      "(90, 1000)\n",
      "beta\n",
      "(90, 1000)\n",
      "mu_beta\n",
      "(90,)\n",
      "sigma_beta\n",
      "(90,)\n",
      "mu_phi\n",
      "(90,)\n",
      "sigma_phi\n",
      "(90,)\n",
      "gamma\n",
      "(90,)\n",
      "lp__\n",
      "(90,)\n"
     ]
    }
   ],
   "source": [
    "for par in la:\n",
    "    print(par)\n",
    "    print(la[par].shape)"
   ]
  },
  {
   "cell_type": "code",
   "execution_count": 42,
   "metadata": {
    "collapsed": true
   },
   "outputs": [],
   "source": [
    "mu_beta = la['mu_beta']\n",
    "beta = la['beta']\n",
    "phi = la['phi']"
   ]
  },
  {
   "cell_type": "code",
   "execution_count": 25,
   "metadata": {},
   "outputs": [
    {
     "data": {
      "text/plain": [
       "(34,)"
      ]
     },
     "execution_count": 25,
     "metadata": {},
     "output_type": "execute_result"
    }
   ],
   "source": [
    "phi.shape"
   ]
  },
  {
   "cell_type": "code",
   "execution_count": 26,
   "metadata": {},
   "outputs": [
    {
     "data": {
      "text/plain": [
       "(90, 1000)"
      ]
     },
     "execution_count": 26,
     "metadata": {},
     "output_type": "execute_result"
    }
   ],
   "source": [
    "beta.shape"
   ]
  },
  {
   "cell_type": "code",
   "execution_count": 48,
   "metadata": {},
   "outputs": [
    {
     "data": {
      "text/plain": [
       "array([-0.43926685,  1.49952359,  0.6428717 , -0.18188526,  1.12834305,\n",
       "        1.34954399, -0.21516883, -0.72380011, -1.39541479,  0.16869521,\n",
       "       -1.20320217, -0.059415  ,  0.50037076, -0.20559674,  0.24603376,\n",
       "        0.48359928, -0.1565916 ,  0.16881284,  0.8916131 , -0.55223734,\n",
       "        1.52940771, -0.10761197, -0.23674257,  0.35005124,  1.07776326,\n",
       "       -1.63978373, -1.3969644 ,  1.0881272 , -1.20048533, -0.27774292,\n",
       "        0.50965051, -1.9857578 , -0.46647299, -0.64256915])"
      ]
     },
     "execution_count": 48,
     "metadata": {},
     "output_type": "execute_result"
    }
   ],
   "source": [
    "phi[:, 2]\n",
    "phi.mean(axis=0)"
   ]
  },
  {
   "cell_type": "code",
   "execution_count": 51,
   "metadata": {},
   "outputs": [
    {
     "name": "stdout",
     "output_type": "stream",
     "text": [
      "BarackObama : -0.439266852971\n",
      "nytimes : 1.49952358848\n",
      "maddow : 0.642871699741\n",
      "FoxNews : -0.181885260509\n",
      "MittRomney : 1.12834304681\n",
      "MMFlint : 1.34954399293\n",
      "glennbeck : -0.215168831437\n",
      "KarlRove : -0.723800111414\n",
      "KeithOlbermann : -1.39541478876\n",
      "SpeakerBoehner : 0.168695212983\n",
      "RepPaulRyan : -1.20320216642\n",
      "JoeBiden : -0.0594150047593\n",
      "NancyPelosi : 0.500370757327\n",
      "GovMikeHuckabee : -0.205596739695\n",
      "Heritage : 0.246033759529\n",
      "RickSantorum : 0.483599284907\n",
      "THEHermanCain : -0.156591599344\n",
      "johnboehner : 0.168812836846\n",
      "limbaugh : 0.891613095643\n",
      "TheDemocrats : -0.552237337478\n",
      "MicheleBachmann : 1.52940771024\n",
      "GovernorPerry : -0.107611966462\n",
      "DWStweets : -0.236742566547\n",
      "SenSanders : 0.350051237019\n",
      "GOPLeader : 1.07776325927\n",
      "alfranken : -1.63978373036\n",
      "AllenWest : -1.39696440186\n",
      "Senate_GOPs : 1.08812720313\n",
      "newtgingrich : -1.20048532743\n",
      "marcorubio : -0.277742916793\n",
      "MotherJones : 0.509650507966\n",
      "DRUDGE : -1.98575780248\n",
      "JimDeMint : -0.466472987086\n",
      "EricCantor : -0.642569148567\n"
     ]
    }
   ],
   "source": [
    "for a, b in zip(y.columns, phi.mean(axis=0)):\n",
    "    print(a +\" : \"+str(b))"
   ]
  },
  {
   "cell_type": "code",
   "execution_count": 54,
   "metadata": {
    "collapsed": true
   },
   "outputs": [],
   "source": [
    "order= np.argsort(phi[0, :])"
   ]
  },
  {
   "cell_type": "code",
   "execution_count": 22,
   "metadata": {
    "collapsed": true
   },
   "outputs": [],
   "source": [
    "import matplotlib\n",
    "%matplotlib inline"
   ]
  },
  {
   "cell_type": "code",
   "execution_count": 47,
   "metadata": {},
   "outputs": [
    {
     "data": {
      "text/plain": [
       "(1, 171)"
      ]
     },
     "execution_count": 47,
     "metadata": {},
     "output_type": "execute_result"
    }
   ],
   "source": [
    "phi.shape"
   ]
  },
  {
   "cell_type": "code",
   "execution_count": 56,
   "metadata": {},
   "outputs": [
    {
     "data": {
      "text/plain": [
       "Index(['BarackObama', 'NancyPelosi', 'JoeBiden', 'TheDemocrats', 'algore',\n",
       "       'DWStweets', 'SenatorReid', 'alfranken', 'Obama2012', 'GabbyGiffords',\n",
       "       ...\n",
       "       'RickSantorum', 'JimDeMint', 'MicheleBachmann', 'EricCantor',\n",
       "       'marcorubio', 'johnboehner', 'KarlRove', 'RepPaulRyan', 'MittRomney',\n",
       "       'SpeakerBoehner'],\n",
       "      dtype='object', length=171)"
      ]
     },
     "execution_count": 56,
     "metadata": {},
     "output_type": "execute_result"
    }
   ],
   "source": [
    "y.columns[order]"
   ]
  },
  {
   "cell_type": "code",
   "execution_count": 45,
   "metadata": {},
   "outputs": [
    {
     "ename": "NameError",
     "evalue": "name 'order' is not defined",
     "output_type": "error",
     "traceback": [
      "\u001b[0;31m---------------------------------------------------------------------------\u001b[0m",
      "\u001b[0;31mNameError\u001b[0m                                 Traceback (most recent call last)",
      "\u001b[0;32m<ipython-input-45-a4c4a7f98a6d>\u001b[0m in \u001b[0;36m<module>\u001b[0;34m()\u001b[0m\n\u001b[0;32m----> 1\u001b[0;31m \u001b[0mphi\u001b[0m\u001b[0;34m[\u001b[0m\u001b[0;34m:\u001b[0m\u001b[0;34m,\u001b[0m \u001b[0morder\u001b[0m\u001b[0;34m]\u001b[0m\u001b[0;34m\u001b[0m\u001b[0m\n\u001b[0m",
      "\u001b[0;31mNameError\u001b[0m: name 'order' is not defined"
     ]
    }
   ],
   "source": [
    "phi[:, order]"
   ]
  },
  {
   "cell_type": "code",
   "execution_count": null,
   "metadata": {
    "collapsed": true
   },
   "outputs": [],
   "source": []
  }
 ],
 "metadata": {
  "kernelspec": {
   "display_name": "Python 3",
   "language": "python",
   "name": "python3"
  },
  "language_info": {
   "codemirror_mode": {
    "name": "ipython",
    "version": 3
   },
   "file_extension": ".py",
   "mimetype": "text/x-python",
   "name": "python",
   "nbconvert_exporter": "python",
   "pygments_lexer": "ipython3",
   "version": "3.6.1"
  }
 },
 "nbformat": 4,
 "nbformat_minor": 2
}
