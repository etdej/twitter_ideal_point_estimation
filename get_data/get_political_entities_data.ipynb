{
 "cells": [
  {
   "cell_type": "code",
   "execution_count": 110,
   "metadata": {
    "collapsed": false
   },
   "outputs": [],
   "source": [
    "import os\n",
    "import requests\n",
    "import json\n",
    "import collections\n",
    "\n",
    "import config"
   ]
  },
  {
   "cell_type": "markdown",
   "metadata": {},
   "source": [
    "### First get data about members of congress from [ProPublica Congress API](https://projects.propublica.org/api-docs/congress-api/)."
   ]
  },
  {
   "cell_type": "code",
   "execution_count": 3,
   "metadata": {
    "collapsed": true
   },
   "outputs": [],
   "source": [
    "def get_congress_api(chamber):\n",
    "    '''\n",
    "    chamber: str, either 'house' or 'senate'\n",
    "    '''\n",
    "    if chamber not in ('senate', 'house'):\n",
    "        raise ValueError(\"chamber can only take the values: 'senate' or 'house'\")\n",
    "    return \"https://api.propublica.org/congress/v1/115/{}/members.json\".format(chamber)"
   ]
  },
  {
   "cell_type": "code",
   "execution_count": 4,
   "metadata": {
    "collapsed": true
   },
   "outputs": [],
   "source": [
    "def get_congress_members(chamber, features=None):\n",
    "    '''\n",
    "    chamber: str, either 'house' or 'senate'\n",
    "    features: tuple, the features to include for each returned member\n",
    "    '''\n",
    "    congress_api_key = config.congress_api_key\n",
    "    headers = {'X-API-Key': congress_api_key}\n",
    "    \n",
    "    r = requests.get(get_congress_api(chamber), headers=headers)\n",
    "\n",
    "    out = r.json()['results'][0]\n",
    "    if features:\n",
    "        for i, member in enumerate(out['members']):\n",
    "            out['members'][i] = {feat: member[feat] for feat in features}\n",
    "    return out"
   ]
  },
  {
   "cell_type": "code",
   "execution_count": 108,
   "metadata": {
    "collapsed": true
   },
   "outputs": [],
   "source": [
    "def filter_members(members, required_features):\n",
    "    '''\n",
    "    Remove members that don't have the required_features\n",
    "    \n",
    "    members: list, list of dicts where each represents a member of congress\n",
    "    required_features: list, list of features that should not be None or empty\n",
    "    '''\n",
    "    updated_members = []\n",
    "    missing_feats_cnt = collections.defaultdict(int)\n",
    "    for member in members:\n",
    "        flag = True\n",
    "        for feat in required_features:\n",
    "            if not member[feat]:\n",
    "                missing_feats_cnt[feat] += 1\n",
    "                flag = False\n",
    "                break\n",
    "        if flag:\n",
    "            updated_members.append(member)\n",
    "    return updated_members, missing_feats_cnt"
   ]
  },
  {
   "cell_type": "code",
   "execution_count": 98,
   "metadata": {
    "collapsed": true
   },
   "outputs": [],
   "source": [
    "features = [\n",
    "    'id', \n",
    "    'first_name',\n",
    "    'last_name',\n",
    "    'date_of_birth',\n",
    "    'party',\n",
    "    'twitter_account',\n",
    "    'in_office',\n",
    "    'ideal_point'\n",
    "]\n",
    "\n",
    "# remove ideal_point\n",
    "required_features = features[:-1]"
   ]
  },
  {
   "cell_type": "code",
   "execution_count": 99,
   "metadata": {
    "collapsed": true
   },
   "outputs": [],
   "source": [
    "house = get_congress_members('house', features)\n",
    "senate = get_congress_members('senate', features)"
   ]
  },
  {
   "cell_type": "code",
   "execution_count": 102,
   "metadata": {
    "collapsed": false
   },
   "outputs": [
    {
     "name": "stdout",
     "output_type": "stream",
     "text": [
      "First house member:\n",
      "{\n",
      "  \"id\": \"A000374\",\n",
      "  \"first_name\": \"Ralph\",\n",
      "  \"last_name\": \"Abraham\",\n",
      "  \"date_of_birth\": \"1954-09-16\",\n",
      "  \"party\": \"R\",\n",
      "  \"twitter_account\": \"RepAbraham\",\n",
      "  \"in_office\": true,\n",
      "  \"ideal_point\": null\n",
      "}\n",
      "First senate member:\n",
      "{\n",
      "  \"id\": \"A000360\",\n",
      "  \"first_name\": \"Lamar\",\n",
      "  \"last_name\": \"Alexander\",\n",
      "  \"date_of_birth\": \"1940-07-03\",\n",
      "  \"party\": \"R\",\n",
      "  \"twitter_account\": \"SenAlexander\",\n",
      "  \"in_office\": true,\n",
      "  \"ideal_point\": null\n",
      "}\n"
     ]
    }
   ],
   "source": [
    "print(\"First house member:\\n{}\".format(json.dumps(house['members'][0], indent=2)))\n",
    "print(\"First senate member:\\n{}\".format(json.dumps(senate['members'][0], indent=2)))"
   ]
  },
  {
   "cell_type": "code",
   "execution_count": 105,
   "metadata": {
    "collapsed": false
   },
   "outputs": [
    {
     "name": "stdout",
     "output_type": "stream",
     "text": [
      "Num members house: 446\n",
      "Num members senate: 101\n"
     ]
    }
   ],
   "source": [
    "print('Num members house: {}'.format(house['num_results']))\n",
    "print('Num members senate: {}'.format(senate['num_results']))"
   ]
  },
  {
   "cell_type": "code",
   "execution_count": 112,
   "metadata": {
    "collapsed": false
   },
   "outputs": [
    {
     "name": "stdout",
     "output_type": "stream",
     "text": [
      "Members house pos-filter:  419\n",
      "Members senate pos-filter:  97\n"
     ]
    }
   ],
   "source": [
    "house_filter, house_missing_feats = filter_members(house['members'], required_features)\n",
    "senate_filter, senate_missing_feats = filter_members(senate['members'], required_features)\n",
    "print(\"Members house pos-filter: \", len(house_filter))\n",
    "print(\"Members senate pos-filter: \", len(senate_filter))"
   ]
  },
  {
   "cell_type": "code",
   "execution_count": 115,
   "metadata": {
    "collapsed": false
   },
   "outputs": [
    {
     "data": {
      "text/plain": [
       "defaultdict(int, {'in_office': 6, 'twitter_account': 21})"
      ]
     },
     "execution_count": 115,
     "metadata": {},
     "output_type": "execute_result"
    }
   ],
   "source": [
    "house_missing_feats"
   ]
  },
  {
   "cell_type": "markdown",
   "metadata": {
    "collapsed": true
   },
   "source": [
    "### Next get data from political entities using Appendix A of Barbera's paper\n",
    "Added the @GOP, @HouseGOP, @HillaryClinton and @realDonaldTrump to the list"
   ]
  },
  {
   "cell_type": "code",
   "execution_count": 130,
   "metadata": {
    "collapsed": true
   },
   "outputs": [],
   "source": [
    "def get_hand_chosen_accounts(filename):\n",
    "    with open(filename, 'r') as fin:\n",
    "        accnts = [account.strip().lstrip('@') for account in fin]\n",
    "    return accnts"
   ]
  },
  {
   "cell_type": "code",
   "execution_count": 131,
   "metadata": {
    "collapsed": false
   },
   "outputs": [
    {
     "name": "stdout",
     "output_type": "stream",
     "text": [
      "Number accounts:  51\n"
     ]
    }
   ],
   "source": [
    "filename = \"us_political_entities_twitter.txt\"\n",
    "hand_chosen_accnts = get_hand_chosen_accounts(filename)\n",
    "print(\"Number accounts: \", len(hand_chosen_accnts))"
   ]
  },
  {
   "cell_type": "markdown",
   "metadata": {},
   "source": [
    "Join members of congress twitter accounts with hand selected ones"
   ]
  },
  {
   "cell_type": "code",
   "execution_count": 132,
   "metadata": {
    "collapsed": false
   },
   "outputs": [],
   "source": [
    "accounts = [member['twitter_account'] for members in [house_filter, senate_filter] for member in members]\n",
    "accounts += hand_chosen_accnts"
   ]
  },
  {
   "cell_type": "code",
   "execution_count": 133,
   "metadata": {
    "collapsed": false
   },
   "outputs": [
    {
     "name": "stdout",
     "output_type": "stream",
     "text": [
      "Total number accounts:  567\n"
     ]
    }
   ],
   "source": [
    "print(\"Total number accounts: \", len(accounts))"
   ]
  },
  {
   "cell_type": "markdown",
   "metadata": {},
   "source": [
    "### Filter political entities twitter accounts"
   ]
  },
  {
   "cell_type": "code",
   "execution_count": null,
   "metadata": {
    "collapsed": true
   },
   "outputs": [],
   "source": []
  },
  {
   "cell_type": "markdown",
   "metadata": {},
   "source": [
    "### Get all followers from twitter accounts and filter them"
   ]
  },
  {
   "cell_type": "markdown",
   "metadata": {},
   "source": [
    "### Get France Political entities twitter accounts"
   ]
  },
  {
   "cell_type": "markdown",
   "metadata": {},
   "source": [
    "### Get all twitter followers from France entities and filter them"
   ]
  },
  {
   "cell_type": "code",
   "execution_count": null,
   "metadata": {
    "collapsed": true
   },
   "outputs": [],
   "source": []
  }
 ],
 "metadata": {
  "kernelspec": {
   "display_name": "Python [conda env:1013_proj]",
   "language": "python",
   "name": "conda-env-1013_proj-py"
  },
  "language_info": {
   "codemirror_mode": {
    "name": "ipython",
    "version": 3
   },
   "file_extension": ".py",
   "mimetype": "text/x-python",
   "name": "python",
   "nbconvert_exporter": "python",
   "pygments_lexer": "ipython3",
   "version": "3.6.2"
  }
 },
 "nbformat": 4,
 "nbformat_minor": 2
}
