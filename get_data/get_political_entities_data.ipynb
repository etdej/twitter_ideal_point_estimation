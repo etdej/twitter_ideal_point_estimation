{
 "cells": [
  {
   "cell_type": "code",
   "execution_count": 11,
   "metadata": {
    "collapsed": false
   },
   "outputs": [],
   "source": [
    "import os\n",
    "import requests\n",
    "import json\n",
    "import config"
   ]
  },
  {
   "cell_type": "markdown",
   "metadata": {},
   "source": [
    "### First get data about members of congress from [ProPublica Congress API](https://projects.propublica.org/api-docs/congress-api/)."
   ]
  },
  {
   "cell_type": "code",
   "execution_count": 2,
   "metadata": {
    "collapsed": true
   },
   "outputs": [],
   "source": [
    "def get_congress_api(chamber):\n",
    "    '''\n",
    "    chamber: str, either 'house' or 'senate'\n",
    "    '''\n",
    "    if chamber not in ('senate', 'house'):\n",
    "        raise ValueError(\"chamber can only take the values: 'senate' or 'house'\")\n",
    "    return \"https://api.propublica.org/congress/v1/115/{}/members.json\".format(chamber)"
   ]
  },
  {
   "cell_type": "code",
   "execution_count": 3,
   "metadata": {
    "collapsed": true
   },
   "outputs": [],
   "source": [
    "def get_congress_members(chamber, features=None):\n",
    "    '''\n",
    "    chamber: str, either 'house' or 'senate'\n",
    "    features: tuple, the features to include for each returned member\n",
    "    '''\n",
    "    congress_api_key = config.congress_api_key\n",
    "    headers = {'X-API-Key': congress_api_key}\n",
    "    \n",
    "    r = requests.get(get_congress_api(chamber), headers=headers)\n",
    "\n",
    "    out = r.json()['results'][0]\n",
    "    if features:\n",
    "        for i, member in enumerate(out['members']):\n",
    "            out['members'][i] = {feat: member[feat] for feat in features}\n",
    "    return out"
   ]
  },
  {
   "cell_type": "code",
   "execution_count": 4,
   "metadata": {
    "collapsed": true
   },
   "outputs": [],
   "source": [
    "features = (\n",
    "        'id', \n",
    "        'first_name',\n",
    "        'last_name',\n",
    "        'date_of_birth',\n",
    "        'party',\n",
    "        'twitter_account',\n",
    "        'in_office',\n",
    "        'ideal_point')"
   ]
  },
  {
   "cell_type": "code",
   "execution_count": 5,
   "metadata": {
    "collapsed": true
   },
   "outputs": [],
   "source": [
    "house = get_congress_members('house', features)\n",
    "senate = get_congress_members('senate', features)"
   ]
  },
  {
   "cell_type": "code",
   "execution_count": 6,
   "metadata": {
    "collapsed": false
   },
   "outputs": [
    {
     "name": "stdout",
     "output_type": "stream",
     "text": [
      "Num members house: 446\n",
      "Num members senate: 101\n"
     ]
    }
   ],
   "source": [
    "print('Num members house: {}'.format(house['num_results']))\n",
    "print('Num members senate: {}'.format(senate['num_results']))"
   ]
  },
  {
   "cell_type": "code",
   "execution_count": 7,
   "metadata": {
    "collapsed": false
   },
   "outputs": [
    {
     "name": "stdout",
     "output_type": "stream",
     "text": [
      "First house member:\n",
      "{\n",
      "  \"first_name\": \"Ralph\",\n",
      "  \"ideal_point\": null,\n",
      "  \"last_name\": \"Abraham\",\n",
      "  \"twitter_account\": \"RepAbraham\",\n",
      "  \"in_office\": true,\n",
      "  \"date_of_birth\": \"1954-09-16\",\n",
      "  \"id\": \"A000374\",\n",
      "  \"party\": \"R\"\n",
      "}\n",
      "First senate member:\n",
      "{\n",
      "  \"first_name\": \"Lamar\",\n",
      "  \"ideal_point\": null,\n",
      "  \"last_name\": \"Alexander\",\n",
      "  \"twitter_account\": \"SenAlexander\",\n",
      "  \"in_office\": true,\n",
      "  \"date_of_birth\": \"1940-07-03\",\n",
      "  \"id\": \"A000360\",\n",
      "  \"party\": \"R\"\n",
      "}\n"
     ]
    }
   ],
   "source": [
    "print(\"First house member:\\n{}\".format(json.dumps(house['members'][0], indent=2)))\n",
    "print(\"First senate member:\\n{}\".format(json.dumps(senate['members'][0], indent=2)))"
   ]
  },
  {
   "cell_type": "code",
   "execution_count": 8,
   "metadata": {
    "collapsed": true
   },
   "outputs": [],
   "source": [
    "def filter_members(members, required_features):\n",
    "    '''\n",
    "    Remove members that don't have the required_features\n",
    "    \n",
    "    members: list, list of dicts where each represents a member of congress\n",
    "    required_features: list, list of features that should not be None or empty\n",
    "    '''\n",
    "    updated_members = []\n",
    "    for member in members:\n",
    "        for feat in required_features:\n",
    "            if not member[feat]:\n",
    "                continue\n",
    "        updated_members.append(member)\n",
    "    return updated_members"
   ]
  },
  {
   "cell_type": "code",
   "execution_count": 9,
   "metadata": {
    "collapsed": false
   },
   "outputs": [
    {
     "data": {
      "text/plain": [
       "446"
      ]
     },
     "execution_count": 9,
     "metadata": {},
     "output_type": "execute_result"
    }
   ],
   "source": [
    "len(filter_members(house['members'], features))"
   ]
  },
  {
   "cell_type": "code",
   "execution_count": 10,
   "metadata": {
    "collapsed": false
   },
   "outputs": [
    {
     "data": {
      "text/plain": [
       "101"
      ]
     },
     "execution_count": 10,
     "metadata": {},
     "output_type": "execute_result"
    }
   ],
   "source": [
    "len(filter_members(senate['members'], features))"
   ]
  },
  {
   "cell_type": "markdown",
   "metadata": {
    "collapsed": true
   },
   "source": [
    "### Next get data from political entities using Appendix A of Barbera's paper\n",
    "Added the @GOP, @HouseGOP and @HillaryClinton to the list"
   ]
  },
  {
   "cell_type": "code",
   "execution_count": 12,
   "metadata": {
    "collapsed": true
   },
   "outputs": [],
   "source": [
    "filename = \"us_political_entities_twitter.txt\"\n"
   ]
  },
  {
   "cell_type": "code",
   "execution_count": 13,
   "metadata": {
    "collapsed": true
   },
   "outputs": [],
   "source": [
    "with open(filename, 'rb') as fin:\n",
    "    accounts = [account for account in fin]"
   ]
  },
  {
   "cell_type": "code",
   "execution_count": 14,
   "metadata": {
    "collapsed": false
   },
   "outputs": [
    {
     "name": "stdout",
     "output_type": "stream",
     "text": [
      "[b'@maddow\\n', b'@MotherJones\\n', b'@MMFlint\\n', b'@dccc (Democratic Congressional Campaign Committee)\\n', b'@KeithOlberman\\n', b'@current\\n', b'@HRC (Human Rights Campaign)\\n', b'@OccupyWallSt\\n', b'@Obama2012\\n', b'@TheDemocrats\\n', b'@HouseDemocrats\\n', b'@SenateDems\\n', b'@thinkprogress\\n', b'@democracynow\\n', b'@algore\\n', b'@msnbc\\n', b'@ClintonTweet\\n', b'@HillaryClinton\\n', b'@JerryBrownGov\\n', b'@nytimes\\n', b'@congressorg\\n', b'@JonHuntsman\\n', b'@HealthCaucus\\n', b'@Schwarzenegger\\n', b'@GovGaryJohnson\\n', b'@RonPaul\\n', b'@MegWhitman\\n', b'@johnboehner\\n', b'@timpawlenty\\n', b'@newtgingrich\\n', b'@NRCC\\n', b'@NRSC\\n', b'@gopconference\\n', b'@SarahPalinUSA\\n', b'@MittRomney\\n', b'@RickSantorum\\n', b'@KarlRove\\n', b'@GovernorPerry\\n', b'@GOPoversigh\\n', b'@FoxNews\\n', b'@Senate_GOPs\\n', b'@GovMikeHuckabee\\n', b'@ConnieMackIV\\n', b'@DRUDGE\\n', b'@THEHermanCain\\n', b'@Heritage\\n', b'@limbaugh\\n', b'@glennbeck\\n', b'@GOP\\n', b'@HouseGOP']\n"
     ]
    }
   ],
   "source": [
    "print(accounts)"
   ]
  },
  {
   "cell_type": "code",
   "execution_count": 17,
   "metadata": {
    "collapsed": true
   },
   "outputs": [],
   "source": [
    "#TODO: use twitter api to filter accounts who have a minimum amount of followers and that are active\n",
    "# also consider adding more accounts to the list"
   ]
  },
  {
   "cell_type": "code",
   "execution_count": null,
   "metadata": {
    "collapsed": true
   },
   "outputs": [],
   "source": []
  }
 ],
 "metadata": {
  "kernelspec": {
   "display_name": "Python [conda env:1001]",
   "language": "python",
   "name": "conda-env-1001-py"
  },
  "language_info": {
   "codemirror_mode": {
    "name": "ipython",
    "version": 3
   },
   "file_extension": ".py",
   "mimetype": "text/x-python",
   "name": "python",
   "nbconvert_exporter": "python",
   "pygments_lexer": "ipython3",
   "version": "3.5.4"
  }
 },
 "nbformat": 4,
 "nbformat_minor": 2
}
