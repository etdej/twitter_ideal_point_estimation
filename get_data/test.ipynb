{
 "cells": [
  {
   "cell_type": "code",
   "execution_count": 1,
   "metadata": {
    "collapsed": true
   },
   "outputs": [],
   "source": [
    "import tweepy\n",
    "import utils\n",
    "\n",
    "api = utils.get_tweepy_api(11)"
   ]
  },
  {
   "cell_type": "code",
   "execution_count": 20,
   "metadata": {},
   "outputs": [
    {
     "name": "stdout",
     "output_type": "stream",
     "text": [
      "hey\n",
      "34\n"
     ]
    }
   ],
   "source": [
    "try:\n",
    "    #r = api.get_user(screen_name=\"24543hbtfenerger\")\n",
    "    #r = api.user_timeline(screen_name=\"24543hbtfenerger\", count=1)\n",
    "    r = api.user_timeline(user_id='1', count=1)\n",
    "except tweepy.TweepError as err:\n",
    "    print('hey')\n",
    "    print(err.api_code)"
   ]
  },
  {
   "cell_type": "code",
   "execution_count": 16,
   "metadata": {},
   "outputs": [
    {
     "data": {
      "text/plain": [
       "Status(_api=<tweepy.api.API object at 0x10bad8be0>, _json={'created_at': 'Tue Jan 31 17:21:01 +0000 2017', 'id': 826480419419848704, 'id_str': '826480419419848704', 'text': 'RT @muellerfreitag: New post: The German auto industry is being rethought through the lens of #AI. What can car companies do about it? http…', 'truncated': False, 'entities': {'hashtags': [{'text': 'AI', 'indices': [94, 97]}], 'symbols': [], 'user_mentions': [{'screen_name': 'muellerfreitag', 'name': 'Moritz', 'id': 3103282948, 'id_str': '3103282948', 'indices': [3, 18]}], 'urls': []}, 'source': '<a href=\"http://www.lebonprix.com\" rel=\"nofollow\">ReadWriteBot-AC</a>', 'in_reply_to_status_id': None, 'in_reply_to_status_id_str': None, 'in_reply_to_user_id': None, 'in_reply_to_user_id_str': None, 'in_reply_to_screen_name': None, 'user': {'id': 3130995473, 'id_str': '3130995473', 'name': 'World of DataScience', 'screen_name': 'DataScParis', 'location': 'Paris, France', 'description': 'Information about DataScience from different sources', 'url': None, 'entities': {'description': {'urls': []}}, 'protected': False, 'followers_count': 539, 'friends_count': 1048, 'listed_count': 63, 'created_at': 'Wed Apr 01 09:42:25 +0000 2015', 'favourites_count': 700, 'utc_offset': None, 'time_zone': None, 'geo_enabled': False, 'verified': False, 'statuses_count': 730, 'lang': 'en', 'contributors_enabled': False, 'is_translator': False, 'is_translation_enabled': False, 'profile_background_color': 'C0DEED', 'profile_background_image_url': 'http://abs.twimg.com/images/themes/theme1/bg.png', 'profile_background_image_url_https': 'https://abs.twimg.com/images/themes/theme1/bg.png', 'profile_background_tile': False, 'profile_image_url': 'http://pbs.twimg.com/profile_images/585465025747427328/hA4XiCO8_normal.png', 'profile_image_url_https': 'https://pbs.twimg.com/profile_images/585465025747427328/hA4XiCO8_normal.png', 'profile_banner_url': 'https://pbs.twimg.com/profile_banners/3130995473/1428768567', 'profile_link_color': '1DA1F2', 'profile_sidebar_border_color': 'C0DEED', 'profile_sidebar_fill_color': 'DDEEF6', 'profile_text_color': '333333', 'profile_use_background_image': True, 'has_extended_profile': False, 'default_profile': True, 'default_profile_image': False, 'following': False, 'follow_request_sent': False, 'notifications': False, 'translator_type': 'none'}, 'geo': None, 'coordinates': None, 'place': None, 'contributors': None, 'retweeted_status': {'created_at': 'Mon Jan 30 19:11:08 +0000 2017', 'id': 826145741483687936, 'id_str': '826145741483687936', 'text': 'New post: The German auto industry is being rethought through the lens of #AI. What can car companies do about it? https://t.co/ZSM5hDtWr6', 'truncated': False, 'entities': {'hashtags': [{'text': 'AI', 'indices': [74, 77]}], 'symbols': [], 'user_mentions': [], 'urls': [{'url': 'https://t.co/ZSM5hDtWr6', 'expanded_url': 'https://medium.com/twentybn/germany-asleep-at-the-wheel-d800445d6da2#.kv3pgnohp', 'display_url': 'medium.com/twentybn/germa…', 'indices': [115, 138]}]}, 'source': '<a href=\"http://twitter.com\" rel=\"nofollow\">Twitter Web Client</a>', 'in_reply_to_status_id': None, 'in_reply_to_status_id_str': None, 'in_reply_to_user_id': None, 'in_reply_to_user_id_str': None, 'in_reply_to_screen_name': None, 'user': {'id': 3103282948, 'id_str': '3103282948', 'name': 'Moritz', 'screen_name': 'muellerfreitag', 'location': 'Berlin & London', 'description': 'Head of Product at @twentybn. All things #AI and emerging tech. Art and jazz enthusiast.', 'url': 'https://t.co/daaIUA8Elh', 'entities': {'url': {'urls': [{'url': 'https://t.co/daaIUA8Elh', 'expanded_url': 'https://medium.com/@muellerfreitag', 'display_url': 'medium.com/@muellerfreitag', 'indices': [0, 23]}]}, 'description': {'urls': []}}, 'protected': False, 'followers_count': 404, 'friends_count': 992, 'listed_count': 64, 'created_at': 'Sun Mar 22 00:33:14 +0000 2015', 'favourites_count': 1599, 'utc_offset': 3600, 'time_zone': 'Belgrade', 'geo_enabled': False, 'verified': False, 'statuses_count': 894, 'lang': 'en', 'contributors_enabled': False, 'is_translator': False, 'is_translation_enabled': False, 'profile_background_color': '000000', 'profile_background_image_url': 'http://abs.twimg.com/images/themes/theme1/bg.png', 'profile_background_image_url_https': 'https://abs.twimg.com/images/themes/theme1/bg.png', 'profile_background_tile': False, 'profile_image_url': 'http://pbs.twimg.com/profile_images/730519811869052932/YpnPqQu9_normal.jpg', 'profile_image_url_https': 'https://pbs.twimg.com/profile_images/730519811869052932/YpnPqQu9_normal.jpg', 'profile_banner_url': 'https://pbs.twimg.com/profile_banners/3103282948/1463517552', 'profile_link_color': '0084B4', 'profile_sidebar_border_color': '000000', 'profile_sidebar_fill_color': '000000', 'profile_text_color': '000000', 'profile_use_background_image': False, 'has_extended_profile': False, 'default_profile': False, 'default_profile_image': False, 'following': False, 'follow_request_sent': False, 'notifications': False, 'translator_type': 'none'}, 'geo': None, 'coordinates': None, 'place': None, 'contributors': None, 'is_quote_status': False, 'retweet_count': 9, 'favorite_count': 16, 'favorited': True, 'retweeted': True, 'possibly_sensitive': False, 'lang': 'en'}, 'is_quote_status': False, 'retweet_count': 9, 'favorite_count': 0, 'favorited': True, 'retweeted': True, 'lang': 'en'}, created_at=datetime.datetime(2017, 1, 31, 17, 21, 1), id=826480419419848704, id_str='826480419419848704', text='RT @muellerfreitag: New post: The German auto industry is being rethought through the lens of #AI. What can car companies do about it? http…', truncated=False, entities={'hashtags': [{'text': 'AI', 'indices': [94, 97]}], 'symbols': [], 'user_mentions': [{'screen_name': 'muellerfreitag', 'name': 'Moritz', 'id': 3103282948, 'id_str': '3103282948', 'indices': [3, 18]}], 'urls': []}, source='ReadWriteBot-AC', source_url='http://www.lebonprix.com', in_reply_to_status_id=None, in_reply_to_status_id_str=None, in_reply_to_user_id=None, in_reply_to_user_id_str=None, in_reply_to_screen_name=None, author=User(_api=<tweepy.api.API object at 0x10bad8be0>, _json={'id': 3130995473, 'id_str': '3130995473', 'name': 'World of DataScience', 'screen_name': 'DataScParis', 'location': 'Paris, France', 'description': 'Information about DataScience from different sources', 'url': None, 'entities': {'description': {'urls': []}}, 'protected': False, 'followers_count': 539, 'friends_count': 1048, 'listed_count': 63, 'created_at': 'Wed Apr 01 09:42:25 +0000 2015', 'favourites_count': 700, 'utc_offset': None, 'time_zone': None, 'geo_enabled': False, 'verified': False, 'statuses_count': 730, 'lang': 'en', 'contributors_enabled': False, 'is_translator': False, 'is_translation_enabled': False, 'profile_background_color': 'C0DEED', 'profile_background_image_url': 'http://abs.twimg.com/images/themes/theme1/bg.png', 'profile_background_image_url_https': 'https://abs.twimg.com/images/themes/theme1/bg.png', 'profile_background_tile': False, 'profile_image_url': 'http://pbs.twimg.com/profile_images/585465025747427328/hA4XiCO8_normal.png', 'profile_image_url_https': 'https://pbs.twimg.com/profile_images/585465025747427328/hA4XiCO8_normal.png', 'profile_banner_url': 'https://pbs.twimg.com/profile_banners/3130995473/1428768567', 'profile_link_color': '1DA1F2', 'profile_sidebar_border_color': 'C0DEED', 'profile_sidebar_fill_color': 'DDEEF6', 'profile_text_color': '333333', 'profile_use_background_image': True, 'has_extended_profile': False, 'default_profile': True, 'default_profile_image': False, 'following': False, 'follow_request_sent': False, 'notifications': False, 'translator_type': 'none'}, id=3130995473, id_str='3130995473', name='World of DataScience', screen_name='DataScParis', location='Paris, France', description='Information about DataScience from different sources', url=None, entities={'description': {'urls': []}}, protected=False, followers_count=539, friends_count=1048, listed_count=63, created_at=datetime.datetime(2015, 4, 1, 9, 42, 25), favourites_count=700, utc_offset=None, time_zone=None, geo_enabled=False, verified=False, statuses_count=730, lang='en', contributors_enabled=False, is_translator=False, is_translation_enabled=False, profile_background_color='C0DEED', profile_background_image_url='http://abs.twimg.com/images/themes/theme1/bg.png', profile_background_image_url_https='https://abs.twimg.com/images/themes/theme1/bg.png', profile_background_tile=False, profile_image_url='http://pbs.twimg.com/profile_images/585465025747427328/hA4XiCO8_normal.png', profile_image_url_https='https://pbs.twimg.com/profile_images/585465025747427328/hA4XiCO8_normal.png', profile_banner_url='https://pbs.twimg.com/profile_banners/3130995473/1428768567', profile_link_color='1DA1F2', profile_sidebar_border_color='C0DEED', profile_sidebar_fill_color='DDEEF6', profile_text_color='333333', profile_use_background_image=True, has_extended_profile=False, default_profile=True, default_profile_image=False, following=False, follow_request_sent=False, notifications=False, translator_type='none'), user=User(_api=<tweepy.api.API object at 0x10bad8be0>, _json={'id': 3130995473, 'id_str': '3130995473', 'name': 'World of DataScience', 'screen_name': 'DataScParis', 'location': 'Paris, France', 'description': 'Information about DataScience from different sources', 'url': None, 'entities': {'description': {'urls': []}}, 'protected': False, 'followers_count': 539, 'friends_count': 1048, 'listed_count': 63, 'created_at': 'Wed Apr 01 09:42:25 +0000 2015', 'favourites_count': 700, 'utc_offset': None, 'time_zone': None, 'geo_enabled': False, 'verified': False, 'statuses_count': 730, 'lang': 'en', 'contributors_enabled': False, 'is_translator': False, 'is_translation_enabled': False, 'profile_background_color': 'C0DEED', 'profile_background_image_url': 'http://abs.twimg.com/images/themes/theme1/bg.png', 'profile_background_image_url_https': 'https://abs.twimg.com/images/themes/theme1/bg.png', 'profile_background_tile': False, 'profile_image_url': 'http://pbs.twimg.com/profile_images/585465025747427328/hA4XiCO8_normal.png', 'profile_image_url_https': 'https://pbs.twimg.com/profile_images/585465025747427328/hA4XiCO8_normal.png', 'profile_banner_url': 'https://pbs.twimg.com/profile_banners/3130995473/1428768567', 'profile_link_color': '1DA1F2', 'profile_sidebar_border_color': 'C0DEED', 'profile_sidebar_fill_color': 'DDEEF6', 'profile_text_color': '333333', 'profile_use_background_image': True, 'has_extended_profile': False, 'default_profile': True, 'default_profile_image': False, 'following': False, 'follow_request_sent': False, 'notifications': False, 'translator_type': 'none'}, id=3130995473, id_str='3130995473', name='World of DataScience', screen_name='DataScParis', location='Paris, France', description='Information about DataScience from different sources', url=None, entities={'description': {'urls': []}}, protected=False, followers_count=539, friends_count=1048, listed_count=63, created_at=datetime.datetime(2015, 4, 1, 9, 42, 25), favourites_count=700, utc_offset=None, time_zone=None, geo_enabled=False, verified=False, statuses_count=730, lang='en', contributors_enabled=False, is_translator=False, is_translation_enabled=False, profile_background_color='C0DEED', profile_background_image_url='http://abs.twimg.com/images/themes/theme1/bg.png', profile_background_image_url_https='https://abs.twimg.com/images/themes/theme1/bg.png', profile_background_tile=False, profile_image_url='http://pbs.twimg.com/profile_images/585465025747427328/hA4XiCO8_normal.png', profile_image_url_https='https://pbs.twimg.com/profile_images/585465025747427328/hA4XiCO8_normal.png', profile_banner_url='https://pbs.twimg.com/profile_banners/3130995473/1428768567', profile_link_color='1DA1F2', profile_sidebar_border_color='C0DEED', profile_sidebar_fill_color='DDEEF6', profile_text_color='333333', profile_use_background_image=True, has_extended_profile=False, default_profile=True, default_profile_image=False, following=False, follow_request_sent=False, notifications=False, translator_type='none'), geo=None, coordinates=None, place=None, contributors=None, retweeted_status=Status(_api=<tweepy.api.API object at 0x10bad8be0>, _json={'created_at': 'Mon Jan 30 19:11:08 +0000 2017', 'id': 826145741483687936, 'id_str': '826145741483687936', 'text': 'New post: The German auto industry is being rethought through the lens of #AI. What can car companies do about it? https://t.co/ZSM5hDtWr6', 'truncated': False, 'entities': {'hashtags': [{'text': 'AI', 'indices': [74, 77]}], 'symbols': [], 'user_mentions': [], 'urls': [{'url': 'https://t.co/ZSM5hDtWr6', 'expanded_url': 'https://medium.com/twentybn/germany-asleep-at-the-wheel-d800445d6da2#.kv3pgnohp', 'display_url': 'medium.com/twentybn/germa…', 'indices': [115, 138]}]}, 'source': '<a href=\"http://twitter.com\" rel=\"nofollow\">Twitter Web Client</a>', 'in_reply_to_status_id': None, 'in_reply_to_status_id_str': None, 'in_reply_to_user_id': None, 'in_reply_to_user_id_str': None, 'in_reply_to_screen_name': None, 'user': {'id': 3103282948, 'id_str': '3103282948', 'name': 'Moritz', 'screen_name': 'muellerfreitag', 'location': 'Berlin & London', 'description': 'Head of Product at @twentybn. All things #AI and emerging tech. Art and jazz enthusiast.', 'url': 'https://t.co/daaIUA8Elh', 'entities': {'url': {'urls': [{'url': 'https://t.co/daaIUA8Elh', 'expanded_url': 'https://medium.com/@muellerfreitag', 'display_url': 'medium.com/@muellerfreitag', 'indices': [0, 23]}]}, 'description': {'urls': []}}, 'protected': False, 'followers_count': 404, 'friends_count': 992, 'listed_count': 64, 'created_at': 'Sun Mar 22 00:33:14 +0000 2015', 'favourites_count': 1599, 'utc_offset': 3600, 'time_zone': 'Belgrade', 'geo_enabled': False, 'verified': False, 'statuses_count': 894, 'lang': 'en', 'contributors_enabled': False, 'is_translator': False, 'is_translation_enabled': False, 'profile_background_color': '000000', 'profile_background_image_url': 'http://abs.twimg.com/images/themes/theme1/bg.png', 'profile_background_image_url_https': 'https://abs.twimg.com/images/themes/theme1/bg.png', 'profile_background_tile': False, 'profile_image_url': 'http://pbs.twimg.com/profile_images/730519811869052932/YpnPqQu9_normal.jpg', 'profile_image_url_https': 'https://pbs.twimg.com/profile_images/730519811869052932/YpnPqQu9_normal.jpg', 'profile_banner_url': 'https://pbs.twimg.com/profile_banners/3103282948/1463517552', 'profile_link_color': '0084B4', 'profile_sidebar_border_color': '000000', 'profile_sidebar_fill_color': '000000', 'profile_text_color': '000000', 'profile_use_background_image': False, 'has_extended_profile': False, 'default_profile': False, 'default_profile_image': False, 'following': False, 'follow_request_sent': False, 'notifications': False, 'translator_type': 'none'}, 'geo': None, 'coordinates': None, 'place': None, 'contributors': None, 'is_quote_status': False, 'retweet_count': 9, 'favorite_count': 16, 'favorited': True, 'retweeted': True, 'possibly_sensitive': False, 'lang': 'en'}, created_at=datetime.datetime(2017, 1, 30, 19, 11, 8), id=826145741483687936, id_str='826145741483687936', text='New post: The German auto industry is being rethought through the lens of #AI. What can car companies do about it? https://t.co/ZSM5hDtWr6', truncated=False, entities={'hashtags': [{'text': 'AI', 'indices': [74, 77]}], 'symbols': [], 'user_mentions': [], 'urls': [{'url': 'https://t.co/ZSM5hDtWr6', 'expanded_url': 'https://medium.com/twentybn/germany-asleep-at-the-wheel-d800445d6da2#.kv3pgnohp', 'display_url': 'medium.com/twentybn/germa…', 'indices': [115, 138]}]}, source='Twitter Web Client', source_url='http://twitter.com', in_reply_to_status_id=None, in_reply_to_status_id_str=None, in_reply_to_user_id=None, in_reply_to_user_id_str=None, in_reply_to_screen_name=None, author=User(_api=<tweepy.api.API object at 0x10bad8be0>, _json={'id': 3103282948, 'id_str': '3103282948', 'name': 'Moritz', 'screen_name': 'muellerfreitag', 'location': 'Berlin & London', 'description': 'Head of Product at @twentybn. All things #AI and emerging tech. Art and jazz enthusiast.', 'url': 'https://t.co/daaIUA8Elh', 'entities': {'url': {'urls': [{'url': 'https://t.co/daaIUA8Elh', 'expanded_url': 'https://medium.com/@muellerfreitag', 'display_url': 'medium.com/@muellerfreitag', 'indices': [0, 23]}]}, 'description': {'urls': []}}, 'protected': False, 'followers_count': 404, 'friends_count': 992, 'listed_count': 64, 'created_at': 'Sun Mar 22 00:33:14 +0000 2015', 'favourites_count': 1599, 'utc_offset': 3600, 'time_zone': 'Belgrade', 'geo_enabled': False, 'verified': False, 'statuses_count': 894, 'lang': 'en', 'contributors_enabled': False, 'is_translator': False, 'is_translation_enabled': False, 'profile_background_color': '000000', 'profile_background_image_url': 'http://abs.twimg.com/images/themes/theme1/bg.png', 'profile_background_image_url_https': 'https://abs.twimg.com/images/themes/theme1/bg.png', 'profile_background_tile': False, 'profile_image_url': 'http://pbs.twimg.com/profile_images/730519811869052932/YpnPqQu9_normal.jpg', 'profile_image_url_https': 'https://pbs.twimg.com/profile_images/730519811869052932/YpnPqQu9_normal.jpg', 'profile_banner_url': 'https://pbs.twimg.com/profile_banners/3103282948/1463517552', 'profile_link_color': '0084B4', 'profile_sidebar_border_color': '000000', 'profile_sidebar_fill_color': '000000', 'profile_text_color': '000000', 'profile_use_background_image': False, 'has_extended_profile': False, 'default_profile': False, 'default_profile_image': False, 'following': False, 'follow_request_sent': False, 'notifications': False, 'translator_type': 'none'}, id=3103282948, id_str='3103282948', name='Moritz', screen_name='muellerfreitag', location='Berlin & London', description='Head of Product at @twentybn. All things #AI and emerging tech. Art and jazz enthusiast.', url='https://t.co/daaIUA8Elh', entities={'url': {'urls': [{'url': 'https://t.co/daaIUA8Elh', 'expanded_url': 'https://medium.com/@muellerfreitag', 'display_url': 'medium.com/@muellerfreitag', 'indices': [0, 23]}]}, 'description': {'urls': []}}, protected=False, followers_count=404, friends_count=992, listed_count=64, created_at=datetime.datetime(2015, 3, 22, 0, 33, 14), favourites_count=1599, utc_offset=3600, time_zone='Belgrade', geo_enabled=False, verified=False, statuses_count=894, lang='en', contributors_enabled=False, is_translator=False, is_translation_enabled=False, profile_background_color='000000', profile_background_image_url='http://abs.twimg.com/images/themes/theme1/bg.png', profile_background_image_url_https='https://abs.twimg.com/images/themes/theme1/bg.png', profile_background_tile=False, profile_image_url='http://pbs.twimg.com/profile_images/730519811869052932/YpnPqQu9_normal.jpg', profile_image_url_https='https://pbs.twimg.com/profile_images/730519811869052932/YpnPqQu9_normal.jpg', profile_banner_url='https://pbs.twimg.com/profile_banners/3103282948/1463517552', profile_link_color='0084B4', profile_sidebar_border_color='000000', profile_sidebar_fill_color='000000', profile_text_color='000000', profile_use_background_image=False, has_extended_profile=False, default_profile=False, default_profile_image=False, following=False, follow_request_sent=False, notifications=False, translator_type='none'), user=User(_api=<tweepy.api.API object at 0x10bad8be0>, _json={'id': 3103282948, 'id_str': '3103282948', 'name': 'Moritz', 'screen_name': 'muellerfreitag', 'location': 'Berlin & London', 'description': 'Head of Product at @twentybn. All things #AI and emerging tech. Art and jazz enthusiast.', 'url': 'https://t.co/daaIUA8Elh', 'entities': {'url': {'urls': [{'url': 'https://t.co/daaIUA8Elh', 'expanded_url': 'https://medium.com/@muellerfreitag', 'display_url': 'medium.com/@muellerfreitag', 'indices': [0, 23]}]}, 'description': {'urls': []}}, 'protected': False, 'followers_count': 404, 'friends_count': 992, 'listed_count': 64, 'created_at': 'Sun Mar 22 00:33:14 +0000 2015', 'favourites_count': 1599, 'utc_offset': 3600, 'time_zone': 'Belgrade', 'geo_enabled': False, 'verified': False, 'statuses_count': 894, 'lang': 'en', 'contributors_enabled': False, 'is_translator': False, 'is_translation_enabled': False, 'profile_background_color': '000000', 'profile_background_image_url': 'http://abs.twimg.com/images/themes/theme1/bg.png', 'profile_background_image_url_https': 'https://abs.twimg.com/images/themes/theme1/bg.png', 'profile_background_tile': False, 'profile_image_url': 'http://pbs.twimg.com/profile_images/730519811869052932/YpnPqQu9_normal.jpg', 'profile_image_url_https': 'https://pbs.twimg.com/profile_images/730519811869052932/YpnPqQu9_normal.jpg', 'profile_banner_url': 'https://pbs.twimg.com/profile_banners/3103282948/1463517552', 'profile_link_color': '0084B4', 'profile_sidebar_border_color': '000000', 'profile_sidebar_fill_color': '000000', 'profile_text_color': '000000', 'profile_use_background_image': False, 'has_extended_profile': False, 'default_profile': False, 'default_profile_image': False, 'following': False, 'follow_request_sent': False, 'notifications': False, 'translator_type': 'none'}, id=3103282948, id_str='3103282948', name='Moritz', screen_name='muellerfreitag', location='Berlin & London', description='Head of Product at @twentybn. All things #AI and emerging tech. Art and jazz enthusiast.', url='https://t.co/daaIUA8Elh', entities={'url': {'urls': [{'url': 'https://t.co/daaIUA8Elh', 'expanded_url': 'https://medium.com/@muellerfreitag', 'display_url': 'medium.com/@muellerfreitag', 'indices': [0, 23]}]}, 'description': {'urls': []}}, protected=False, followers_count=404, friends_count=992, listed_count=64, created_at=datetime.datetime(2015, 3, 22, 0, 33, 14), favourites_count=1599, utc_offset=3600, time_zone='Belgrade', geo_enabled=False, verified=False, statuses_count=894, lang='en', contributors_enabled=False, is_translator=False, is_translation_enabled=False, profile_background_color='000000', profile_background_image_url='http://abs.twimg.com/images/themes/theme1/bg.png', profile_background_image_url_https='https://abs.twimg.com/images/themes/theme1/bg.png', profile_background_tile=False, profile_image_url='http://pbs.twimg.com/profile_images/730519811869052932/YpnPqQu9_normal.jpg', profile_image_url_https='https://pbs.twimg.com/profile_images/730519811869052932/YpnPqQu9_normal.jpg', profile_banner_url='https://pbs.twimg.com/profile_banners/3103282948/1463517552', profile_link_color='0084B4', profile_sidebar_border_color='000000', profile_sidebar_fill_color='000000', profile_text_color='000000', profile_use_background_image=False, has_extended_profile=False, default_profile=False, default_profile_image=False, following=False, follow_request_sent=False, notifications=False, translator_type='none'), geo=None, coordinates=None, place=None, contributors=None, is_quote_status=False, retweet_count=9, favorite_count=16, favorited=True, retweeted=True, possibly_sensitive=False, lang='en'), is_quote_status=False, retweet_count=9, favorite_count=0, favorited=True, retweeted=True, lang='en')"
      ]
     },
     "execution_count": 16,
     "metadata": {},
     "output_type": "execute_result"
    }
   ],
   "source": [
    "r[0]"
   ]
  },
  {
   "cell_type": "code",
   "execution_count": 2,
   "metadata": {
    "collapsed": true
   },
   "outputs": [],
   "source": [
    "uname = \"@libe\""
   ]
  },
  {
   "cell_type": "code",
   "execution_count": 3,
   "metadata": {
    "collapsed": true
   },
   "outputs": [],
   "source": [
    "user = utils.tweepy_api_call(api.get_user, screen_name=uname)"
   ]
  },
  {
   "cell_type": "code",
   "execution_count": 4,
   "metadata": {
    "collapsed": true
   },
   "outputs": [],
   "source": [
    "user_dict = vars(user)"
   ]
  },
  {
   "cell_type": "code",
   "execution_count": 5,
   "metadata": {},
   "outputs": [
    {
     "data": {
      "text/plain": [
       "False"
      ]
     },
     "execution_count": 5,
     "metadata": {},
     "output_type": "execute_result"
    }
   ],
   "source": [
    "user_dict['protected']"
   ]
  },
  {
   "cell_type": "code",
   "execution_count": 6,
   "metadata": {},
   "outputs": [
    {
     "data": {
      "text/plain": [
       "2726276"
      ]
     },
     "execution_count": 6,
     "metadata": {},
     "output_type": "execute_result"
    }
   ],
   "source": [
    "user_dict['followers_count']"
   ]
  },
  {
   "cell_type": "code",
   "execution_count": 7,
   "metadata": {},
   "outputs": [
    {
     "data": {
      "text/plain": [
       "True"
      ]
     },
     "execution_count": 7,
     "metadata": {},
     "output_type": "execute_result"
    }
   ],
   "source": [
    "utils.is_active(user_dict, api, 3)"
   ]
  },
  {
   "cell_type": "code",
   "execution_count": 8,
   "metadata": {
    "collapsed": true
   },
   "outputs": [],
   "source": [
    "timeline = utils.tweepy_api_call(\n",
    "        api.user_timeline,\n",
    "        user_id=user.id_str,\n",
    "        count=1,)"
   ]
  },
  {
   "cell_type": "code",
   "execution_count": 9,
   "metadata": {
    "collapsed": true
   },
   "outputs": [],
   "source": [
    "status = timeline[0]"
   ]
  },
  {
   "cell_type": "code",
   "execution_count": null,
   "metadata": {
    "collapsed": true
   },
   "outputs": [],
   "source": []
  },
  {
   "cell_type": "code",
   "execution_count": 10,
   "metadata": {},
   "outputs": [
    {
     "ename": "NameError",
     "evalue": "name 'err1' is not defined",
     "output_type": "error",
     "traceback": [
      "\u001b[0;31m---------------------------------------------------------------------------\u001b[0m",
      "\u001b[0;31mNameError\u001b[0m                                 Traceback (most recent call last)",
      "\u001b[0;32m<ipython-input-10-57edfd77f884>\u001b[0m in \u001b[0;36m<module>\u001b[0;34m()\u001b[0m\n\u001b[0;32m----> 1\u001b[0;31m \u001b[0merr1\u001b[0m\u001b[0;34m.\u001b[0m\u001b[0margs\u001b[0m\u001b[0;34m\u001b[0m\u001b[0m\n\u001b[0m",
      "\u001b[0;31mNameError\u001b[0m: name 'err1' is not defined"
     ]
    }
   ],
   "source": [
    "err1.args"
   ]
  },
  {
   "cell_type": "code",
   "execution_count": 11,
   "metadata": {},
   "outputs": [
    {
     "ename": "NameError",
     "evalue": "name 'err1' is not defined",
     "output_type": "error",
     "traceback": [
      "\u001b[0;31m---------------------------------------------------------------------------\u001b[0m",
      "\u001b[0;31mNameError\u001b[0m                                 Traceback (most recent call last)",
      "\u001b[0;32m<ipython-input-11-9311b6e09642>\u001b[0m in \u001b[0;36m<module>\u001b[0;34m()\u001b[0m\n\u001b[0;32m----> 1\u001b[0;31m \u001b[0merr1\u001b[0m\u001b[0;34m.\u001b[0m\u001b[0mreason\u001b[0m\u001b[0;34m\u001b[0m\u001b[0m\n\u001b[0m",
      "\u001b[0;31mNameError\u001b[0m: name 'err1' is not defined"
     ]
    }
   ],
   "source": [
    "err1.reason"
   ]
  },
  {
   "cell_type": "code",
   "execution_count": 12,
   "metadata": {},
   "outputs": [
    {
     "ename": "NameError",
     "evalue": "name 'err1' is not defined",
     "output_type": "error",
     "traceback": [
      "\u001b[0;31m---------------------------------------------------------------------------\u001b[0m",
      "\u001b[0;31mNameError\u001b[0m                                 Traceback (most recent call last)",
      "\u001b[0;32m<ipython-input-12-1b62a53b4a2a>\u001b[0m in \u001b[0;36m<module>\u001b[0;34m()\u001b[0m\n\u001b[0;32m----> 1\u001b[0;31m \u001b[0merr1\u001b[0m\u001b[0;34m.\u001b[0m\u001b[0mresponse\u001b[0m\u001b[0;34m\u001b[0m\u001b[0m\n\u001b[0m",
      "\u001b[0;31mNameError\u001b[0m: name 'err1' is not defined"
     ]
    }
   ],
   "source": [
    "err1.response"
   ]
  },
  {
   "cell_type": "code",
   "execution_count": 13,
   "metadata": {
    "collapsed": true
   },
   "outputs": [],
   "source": [
    "f = \"../data/fr_elites_handles.json\"\n",
    "import utils"
   ]
  },
  {
   "cell_type": "code",
   "execution_count": 14,
   "metadata": {
    "collapsed": true
   },
   "outputs": [],
   "source": [
    "handles = utils.json_load(f)\n",
    "handles = [handle.lstrip('@') for handle in handles]"
   ]
  },
  {
   "cell_type": "code",
   "execution_count": 15,
   "metadata": {
    "collapsed": true
   },
   "outputs": [],
   "source": [
    "consumer_key= \"gIjoT52Eh3KSf4d0zUFNVcfAo\"\n",
    "consumer_secret = \"ku8L6dMstlgGNl94uHeZ0odLPi53zuKf0znrFtUePucyQ6NZPu\"\n",
    "\n",
    "bearer_creds = utils.get_bearer_credentials(consumer_key, consumer_secret)\n",
    "auth = \"Bearer \" + utils.get_access_token(bearer_creds)"
   ]
  },
  {
   "cell_type": "code",
   "execution_count": 16,
   "metadata": {
    "collapsed": true
   },
   "outputs": [],
   "source": [
    "TWITTER_ENDPOINT = 'https://api.twitter.com/'\n",
    "USERS_URL = TWITTER_ENDPOINT + '1.1/users/lookup.json'"
   ]
  },
  {
   "cell_type": "code",
   "execution_count": 28,
   "metadata": {
    "collapsed": true
   },
   "outputs": [],
   "source": [
    "users = []\n",
    "for i in [0, 100, 200]:\n",
    "    params = {\n",
    "        'screen_name': ','.join([handle.lstrip('@') for handle in handles[i:i+100]])\n",
    "    }\n",
    "    users.extend(utils.twitter_api_call('https://api.twitter.com/1.1/users/lookup.json', auth, params, method='post'))"
   ]
  },
  {
   "cell_type": "code",
   "execution_count": 53,
   "metadata": {},
   "outputs": [
    {
     "data": {
      "text/plain": [
       "[(2073, 'franckmarlin'),\n",
       " (2103, 'JLBourlanges'),\n",
       " (2114, 'oliviermarleix'),\n",
       " (2116, 'cpiresbeaune'),\n",
       " (2124, 'Ch_Hennion'),\n",
       " (2157, 'SandrineLeFeur'),\n",
       " (2162, 'alexIholroyd'),\n",
       " (2183, 'jmzulesi'),\n",
       " (2189, 'b_abba'),\n",
       " (2218, 'AChristine_Lang'),\n",
       " (2236, 'Fred_Barbier'),\n",
       " (2239, 'HervePellois'),\n",
       " (2253, 'PhilippeGomesCE'),\n",
       " (2254, 'sarahelhairy'),\n",
       " (2280, 'ceciluntermaier'),\n",
       " (2282, 'JKrabal'),\n",
       " (2339, 'warsmann'),\n",
       " (2344, 'stephane1peu'),\n",
       " (2401, 'GerardCherpion'),\n",
       " (2446, 'BrunoBilde'),\n",
       " (2471, 'fdumasdeputee'),\n",
       " (2476, 'VeroLouwagie'),\n",
       " (2497, 'patrickhetzel'),\n",
       " (2501, 'MichelZumkeller'),\n",
       " (2510, 'AlainTourret'),\n",
       " (2520, 'stephanie_rist'),\n",
       " (2565, 'trobert974'),\n",
       " (2593, 'MartialSaddier'),\n",
       " (2598, 'MIRALLESMP'),\n",
       " (2636, 'hsaulignac'),\n",
       " (2641, 'ludovicMDS'),\n",
       " (2678, 'LauStmartin'),\n",
       " (2695, 'Aurelientache'),\n",
       " (2701, 'LMaillart'),\n",
       " (2707, 'valerie_oppelt'),\n",
       " (2744, 'PA_Anglade'),\n",
       " (2768, 'GabrielServille'),\n",
       " (2784, 'jrcazeneuve'),\n",
       " (2820, 'MRessiguier'),\n",
       " (2930, 'ElsaFaucillon'),\n",
       " (3014, 'yves_blein'),\n",
       " (3073, 'AnnieGenevard'),\n",
       " (3166, 'celinecalvez'),\n",
       " (3181, 'ebothorel'),\n",
       " (3199, 'ericstraumann'),\n",
       " (3210, 'DumasFrederique'),\n",
       " (3229, 'JulienDive'),\n",
       " (3244, 'HerveBerville'),\n",
       " (3261, 'VincentLedoux59'),\n",
       " (3268, 'JulienAubert84'),\n",
       " (3275, 'BenedictTaurine'),\n",
       " (3314, 'MORELPIERRE'),\n",
       " (3335, 'JCTaugourdeau'),\n",
       " (3337, 'bernardreynes'),\n",
       " (3337, 'fpupponi'),\n",
       " (3383, 'RolandLescure'),\n",
       " (3394, 'FBACHEL1ER'),\n",
       " (3398, 'YaelBRAUNPIVET'),\n",
       " (3418, 'MFesneau'),\n",
       " (3425, 'SabineRubinFI93'),\n",
       " (3522, 'delaverpilliere'),\n",
       " (3540, 'ericalauzet'),\n",
       " (3654, 'Michel_Larive'),\n",
       " (3665, 'VLacroute'),\n",
       " (3704, 'florent_boudie'),\n",
       " (3784, 'BorisVallaud'),\n",
       " (3817, 'Sebastien_Nadot'),\n",
       " (3849, 'Paul_Molac'),\n",
       " (3880, 'PaulaForteza'),\n",
       " (3899, 'doorjean'),\n",
       " (3957, 'CoDubost'),\n",
       " (3979, 'SophieErrante'),\n",
       " (4023, 'Cdganay'),\n",
       " (4037, 'Castellani_'),\n",
       " (4127, 'gilleslurton'),\n",
       " (4140, 'ODassault'),\n",
       " (4164, 'MTabarot'),\n",
       " (4193, 'FrancoisAndre35'),\n",
       " (4235, 'OlivierFalorni'),\n",
       " (4267, 'JF_Acquaviva'),\n",
       " (4290, 'ludovicpajot'),\n",
       " (4327, 'lauriannerossi'),\n",
       " (4399, 'GillesLeGendre'),\n",
       " (4516, 'PotierDominique'),\n",
       " (4543, 'PacomeRupin'),\n",
       " (4560, 'Chris_Bouillon'),\n",
       " (4568, 'MarieLebec78'),\n",
       " (4646, 'sebastienjumel'),\n",
       " (4655, 'Prudhomme2017'),\n",
       " (4681, 'BertrandPancher'),\n",
       " (4713, 'philippefolliot'),\n",
       " (4734, 'MickaelNogal'),\n",
       " (4787, 'GBessonMoreau'),\n",
       " (4793, 'huguesrenson'),\n",
       " (4824, 'MoniqueIborra'),\n",
       " (4876, 'PatrickVignal'),\n",
       " (4915, 'G_ROUILLARD'),\n",
       " (4994, 'AdeMontchalin'),\n",
       " (5087, 'B_Perrut'),\n",
       " (5146, 'SergeLetchimy'),\n",
       " (5226, 'GillesCarrez'),\n",
       " (5582, 'StanGuerini'),\n",
       " (5629, 'ConstanceLeGrip'),\n",
       " (5746, 'BrunoBonnellOff'),\n",
       " (5764, 'oliviagregoire'),\n",
       " (5897, 'CarolineFiat54'),\n",
       " (6228, 'fm_lambert'),\n",
       " (6255, 'sebchenu'),\n",
       " (6325, 'bretonxavier'),\n",
       " (6339, 'C_deCourson'),\n",
       " (6423, 'guyteissier'),\n",
       " (6575, 'phdumont'),\n",
       " (6579, 'Meyer_Habib'),\n",
       " (6724, 'GabrielAttal'),\n",
       " (7149, 'duboismarianne'),\n",
       " (7242, 'emenard34'),\n",
       " (7280, 'olivierveran'),\n",
       " (7301, 'Ugobernalicis'),\n",
       " (7321, 'S_Trompille'),\n",
       " (7463, 'AndreChassaigne'),\n",
       " (7765, 'LaetitiaAvia'),\n",
       " (7839, 'dbaichere'),\n",
       " (7987, 'LachaudB'),\n",
       " (8000, 'MauriceLeroy'),\n",
       " (8071, 'MathildePanot'),\n",
       " (8351, 'yfavennec'),\n",
       " (8435, 'DubyMuller'),\n",
       " (8489, 'Valerie_Rabault'),\n",
       " (8799, 'robinreda'),\n",
       " (9333, 'luccarvounas'),\n",
       " (9407, 'Sophie_Auconie'),\n",
       " (9729, 'marinebrenier'),\n",
       " (10022, 'marclefur'),\n",
       " (10041, 'brigitte_kuster'),\n",
       " (10249, 'VigierPhilippe'),\n",
       " (10261, 'damienabad'),\n",
       " (10262, 'ebareigts'),\n",
       " (10591, 'phgosselin'),\n",
       " (11084, 'M_Orphelin'),\n",
       " (11088, 'Pierr_Person'),\n",
       " (11604, 'SylvainMaillard'),\n",
       " (11890, 'Juanico'),\n",
       " (13397, 'DFasquelle'),\n",
       " (15250, 'Sach_He'),\n",
       " (15343, 'olivierdussopt'),\n",
       " (16735, 'GLarrive'),\n",
       " (17053, 'desarnez'),\n",
       " (17095, 'guillaumegarot'),\n",
       " (18583, 'SebastienHuyghe'),\n",
       " (19360, 'lauredlr'),\n",
       " (20123, 'ClaudeGoasguen'),\n",
       " (21417, 'faureolivier'),\n",
       " (22058, 'AQuatennens'),\n",
       " (25153, 'ericcoquerel'),\n",
       " (25861, 'solere92'),\n",
       " (25919, 'SylviaPinel'),\n",
       " (26226, 'Pau_Langevin'),\n",
       " (27148, 'pybournazel'),\n",
       " (30337, 'PCF'),\n",
       " (30477, 'UDI_off'),\n",
       " (30594, 'auroreberge'),\n",
       " (30650, 'barbarapompili'),\n",
       " (31503, 'franckriester'),\n",
       " (33233, 'jeanlassalle'),\n",
       " (34219, 'FdeRugy'),\n",
       " (35081, 'VillaniCedric'),\n",
       " (36366, 'yvesjego'),\n",
       " (37683, 'G_Peltier'),\n",
       " (38938, 'FranceInsoumise'),\n",
       " (39677, 'RichardFerrand'),\n",
       " (40487, 'Clem_Autain'),\n",
       " (41539, 'valerieboyer13'),\n",
       " (47436, 'Francois_Ruffin'),\n",
       " (50881, 'ericwoerth'),\n",
       " (50885, 'alexiscorbiere'),\n",
       " (54848, 'louis_aliot'),\n",
       " (59653, 'delphinebatho'),\n",
       " (72028, 'atlantico_fr'),\n",
       " (109157, 'jclagarde'),\n",
       " (112806, 'ECiotti'),\n",
       " (118980, 'SLeFoll'),\n",
       " (131353, 'GilbertCollard'),\n",
       " (152522, 'dupontaignan'),\n",
       " (156706, 'EELV'),\n",
       " (181631, 'partisocialiste'),\n",
       " (188345, 'enmarchefr'),\n",
       " (206790, 'FN_officiel'),\n",
       " (243251, 'lesRepublicains'),\n",
       " (680634, 'LePoint'),\n",
       " (706072, 'Slatefr'),\n",
       " (904801, 'manuelvalls'),\n",
       " (1088059, 'LesEchos'),\n",
       " (1255536, 'LEXPRESS'),\n",
       " (1264329, 'lobs'),\n",
       " (1559567, 'Rue89'),\n",
       " (1635445, 'JLMelenchon'),\n",
       " (1897970, 'MLP_officiel'),\n",
       " (1984457, 'le_Parisien'),\n",
       " (2210707, 'mediapart'),\n",
       " (2319054, '20Minutes'),\n",
       " (2724245, 'libe'),\n",
       " (2837782, 'Le_Figaro'),\n",
       " (7610351, 'lemondefr')]"
      ]
     },
     "execution_count": 53,
     "metadata": {},
     "output_type": "execute_result"
    }
   ],
   "source": [
    "followers = []\n",
    "for user in users:\n",
    "    followers.append((user['followers_count'], user['screen_name']))\n",
    "sorted(followers)"
   ]
  },
  {
   "cell_type": "code",
   "execution_count": 17,
   "metadata": {
    "collapsed": true
   },
   "outputs": [],
   "source": [
    "f = \"../data/twitter-france.txt\"\n",
    "with open(f, 'r') as fin:\n",
    "    handles = [line.strip().lstrip('@') for line in fin]"
   ]
  },
  {
   "cell_type": "code",
   "execution_count": 18,
   "metadata": {
    "collapsed": true
   },
   "outputs": [],
   "source": [
    "params = {\n",
    "    'screen_name': ','.join(handles)\n",
    "}\n",
    "users = utils.twitter_api_call('https://api.twitter.com/1.1/users/lookup.json', auth, params, method='post')"
   ]
  },
  {
   "cell_type": "code",
   "execution_count": 20,
   "metadata": {},
   "outputs": [
    {
     "data": {
      "text/plain": [
       "[(30363, 'PCF'),\n",
       " (30490, 'UDI_off'),\n",
       " (39275, 'FranceInsoumise'),\n",
       " (72063, 'atlantico_fr'),\n",
       " (156732, 'EELV'),\n",
       " (182396, 'partisocialiste'),\n",
       " (189681, 'enmarchefr'),\n",
       " (206995, 'FN_officiel'),\n",
       " (243629, 'lesRepublicains'),\n",
       " (681003, 'LePoint'),\n",
       " (706541, 'Slatefr'),\n",
       " (1089107, 'LesEchos'),\n",
       " (1255981, 'LEXPRESS'),\n",
       " (1265016, 'lobs'),\n",
       " (1560618, 'Rue89'),\n",
       " (1985798, 'le_Parisien'),\n",
       " (2212407, 'mediapart'),\n",
       " (2319477, '20Minutes'),\n",
       " (2726277, 'libe'),\n",
       " (2839593, 'Le_Figaro'),\n",
       " (7615286, 'lemondefr')]"
      ]
     },
     "execution_count": 20,
     "metadata": {},
     "output_type": "execute_result"
    }
   ],
   "source": [
    "followers = [(user['followers_count'], user['screen_name']) for user in users]\n",
    "sorted(followers)"
   ]
  },
  {
   "cell_type": "code",
   "execution_count": null,
   "metadata": {
    "collapsed": true
   },
   "outputs": [],
   "source": []
  }
 ],
 "metadata": {
  "kernelspec": {
   "display_name": "Python [conda env:1013_proj]",
   "language": "python",
   "name": "conda-env-1013_proj-py"
  },
  "language_info": {
   "codemirror_mode": {
    "name": "ipython",
    "version": 3
   },
   "file_extension": ".py",
   "mimetype": "text/x-python",
   "name": "python",
   "nbconvert_exporter": "python",
   "pygments_lexer": "ipython3",
   "version": "3.6.2"
  }
 },
 "nbformat": 4,
 "nbformat_minor": 2
}
